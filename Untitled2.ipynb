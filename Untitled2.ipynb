{
 "cells": [
  {
   "cell_type": "code",
   "execution_count": null,
   "metadata": {},
   "outputs": [],
   "source": [
    "    #####################################################################\n",
    "    #                                                                  ##\n",
    "    #      DATA CLEANSING OF TABLE CV_FM_TRACKING FOR PGI FOR 2018     ##\n",
    "    #                                                                  ##\n",
    "    #####################################################################\n",
    "\n",
    "   "
   ]
  },
  {
   "cell_type": "code",
   "execution_count": null,
   "metadata": {},
   "outputs": [],
   "source": [
    "##################################CONNECTING TO SAP HANA TABLE CV_FM_TRACKING####################################################\n",
    "library(RODBC)\n",
    "# CV_FM_TRACKING PHL.airbus.manufacturing.FlowMetrics.Reporting.Tracking  Saphana_1 phlhdbe0.eu.airbus.corp:36015  \n",
    "ch<-odbcConnect(\"phl\",uid='TO122806',pwd='Saphana_1')\n",
    "result=sqlQuery(ch,'SELECT \"MP_CODE\",\"LGNUM\",\"LGORT\",\"TANUM\",\"TAPOS\",\"BWLVS\",\"MARKET_PLACE\",\"MATNR\",\n",
    "\"SYS_ID\",\"FLOW_DESC\",\"ZZMSN\",\"ZZTF\",\"BATI_LIVN\",\"CITY1\",\"CONSUMING_PLANT\",\"ACT_NEED_DATE_TIME\",\n",
    "\"PUSH_POD_PLAN\",\"PUSH_POU_PLAN\",\"PULL_POD_PLAN\",\"PULL_POU_PLAN\",\"PULL_POU_CLUST\",\"PUSH_SLA_DESC\",\n",
    "\"PUSH_SLA_HOUR\",\"PULL_SLA_DESC\",\"PULL_SLA_HOUR\",\"STOCK_MISSING_PART\",\"STATUS_DATE_TIME\"\n",
    " FROM \"airbus.manufacturing.FlowMetrics.Reporting.Tracking::CV_FM_TRACKING\" WHERE\n",
    "\"STATUS_YEAR\"=2018 and SYS_ID=\\'PGI\\'')"
   ]
  },
  {
   "cell_type": "code",
   "execution_count": null,
   "metadata": {},
   "outputs": [],
   "source": [
    "result"
   ]
  },
  {
   "cell_type": "code",
   "execution_count": null,
   "metadata": {},
   "outputs": [],
   "source": [
    "write.csv(result, file = \"data_pgi.csv\")"
   ]
  },
  {
   "cell_type": "code",
   "execution_count": null,
   "metadata": {},
   "outputs": [],
   "source": [
    "    library(dplyr)\n",
    "    library(plyr)\n",
    "    library(data.table)\n",
    "\n",
    "    #Data reading\n",
    "#     data_PGI=read.csv2(file=\"C:\\\\Users\\\\TO122806\\\\Documents\\\\Projets\\\\FM\\\\Donnees\\\\PGI_Outbound.csv\",header=TRUE,\n",
    "#                        sep=';',row.names = NULL,fill=TRUE,na.strings = c('<Null>','<NA>','A','NULL','null','_','-'),\n",
    "#     stringsAsFactors=FALSE)  \n",
    "\n",
    "    #Choice of system\n",
    "    data_all=data_PGI\n",
    "\n",
    "    #Computing NA\n",
    "    data_all[is.na(data_all)]<-NA\n",
    "\n",
    "    #Selection of given MP_CODE 80,85,90,95,100,105,110,112,140,150\n",
    "    data_all=data_all[data_all$MP_CODE%in%c(80,85,90,95,100,105,110,112,140,150),]\n",
    "\n",
    "    #Selection of important variables choosen by expert\n",
    "    data_all=data_all[,names(data_all)%in%c(\"MP_CODE\",\"LGNUM\",\"LGORT\",\"TANUM\",\"TAPOS\",\"TRK_ELEM\",\"TRK_ELEM_TYPE\",\n",
    "                                            \"ZDMTRT06_ZSTATION\",\"BWLVS\",\"MARKET_PLACE\",\"AUFNR\",\"VORNR\",\n",
    "                                            \"MDU_CODE\",\"MATNR\",\"SYS_ID\",\"FLOW_DESC\",\n",
    "    \"ZZMSN\",\"ZZTF\",\"BATI_LIVN\",\"CITY1\",\"CONSUMING_PLANT\",\"ACT_NEED_DATE_TIME\",\"PUSH_POD_PLAN\",\"PUSH_POU_PLAN\",\n",
    "                                            \"PULL_POD_PLAN\",\"PULL_POU_PLAN\",\"PULL_POU_CLUST\",\"PUSH_SLA_DESC\",\n",
    "    \"PUSH_SLA_HOUR\",\"PULL_SLA_DESC\",\"PULL_SLA_HOUR\",\"STOCK_MISSING_PART\",\"STATUS_DATE_TIME\")]\n",
    "    \n",
    "    #Concatenation of LGNUM(magasin)+TANUM(transfert order)+TAPOS(position) to have unique ID\n",
    "    data_all$ID=paste0(data_all$TAPOS,'_',data_all$LGNUM,'_',data_all$TANUM )\n",
    "\n",
    "    #Aggregation of PUSH_POU_PLAN and PULL_POU_PLAN  into one with 2 modalities.\n",
    "    data_all$POU_PLAN=ifelse(((data_all$PULL_POU_PLAN=='')|(data_all$PULL_POU_PLAN=='-')\n",
    "                            |is.na(data_all$PULL_POU_PLAN)|(data_all$PULL_POU_PLAN=='N/A')),data_all$PUSH_POU_PLAN,data_all$PULL_POU_PLAN)\n",
    "    #Aggregation of PUSH_POU_PLAN and PULL_POU_PLAN  into one with 2 modalities.    \n",
    "    data_all$POD_PLAN=ifelse(((data_all$PULL_POD_PLAN=='')|(data_all$PULL_POD_PLAN=='-')\n",
    "                            |is.na(data_all$PULL_POD_PLAN)|(data_all$PULL_POD_PLAN=='N/A')),data_all$PUSH_POD_PLAN,data_all$PULL_POD_PLAN)\n",
    "\n",
    "    #Aggregation of PUSH_POD_PLAN and PULL_POD_PLAN  into one with 2 modalities.\n",
    "    data_all$ID=paste0(data_all$TAPOS,'_',data_all$LGNUM,'_',data_all$TANUM )\n",
    "    #Aggregation PULL_SLA_HOUR & PULL_SLA_HOUR\n",
    "    #Deletion of useless fields\n",
    "    data_all=data_all[,!(names(data_all)%in%c(\"TAPOS\", \"TANUM\",\"PULLED\",\"SYS_ID\",\"TRK_ELEM\",\"TRK_ELEM_TYPE\",\n",
    "                                              \"AUFNR\",\"VORNR\",\"PULL_SLA_DESC\",\"MDU_CODE\",\n",
    "                                              \"ZDMTRT06_ZSTATION\" ,\"PUSH_POU_PLAN\",\"PULL_POU_PLAN\",\"PULL_POD_PLAN\",\"PUSH_POD_PLAN\"))]\n",
    "                                      \n",
    "    #Deletion of incomplete data\n",
    "    id_output=data_all[data_all$MP_CODE%in%c(140,150),]$ID\n",
    "    data_final=data_all[data_all$ID%in%id_output,]\n",
    "\n",
    "    #Deletion of data with empty values for FLOW_DESC and MARKET_PLACE if FLOW_DESC in MARKET_PLACE\n",
    "    data_final=data_final[((data_final$FLOW_DESC!='')&&(data_final$FLOW_DESC!='-')&&(!(is.na(data_final$FLOW_DESC)))),]\n",
    "    data_final=data_final[((data_final$FLOW_DESC!='W')&&(data_final$MARKET_PLACE!='-')),]\n",
    "      "
   ]
  },
  {
   "cell_type": "code",
   "execution_count": 46,
   "metadata": {},
   "outputs": [
    {
     "data": {
      "text/html": [
       "<table>\n",
       "<thead><tr><th></th><th scope=col>FLOW_DESC</th><th scope=col>MARKET_PLACE</th></tr></thead>\n",
       "<tbody>\n",
       "\t<tr><th scope=row>1</th><td>N </td><td>NA</td></tr>\n",
       "\t<tr><th scope=row>12874</th><td>NA</td><td>NA</td></tr>\n",
       "</tbody>\n",
       "</table>\n"
      ],
      "text/latex": [
       "\\begin{tabular}{r|ll}\n",
       "  & FLOW\\_DESC & MARKET\\_PLACE\\\\\n",
       "\\hline\n",
       "\t1 & N  & NA\\\\\n",
       "\t12874 & NA & NA\\\\\n",
       "\\end{tabular}\n"
      ],
      "text/markdown": [
       "\n",
       "| <!--/--> | FLOW_DESC | MARKET_PLACE | \n",
       "|---|---|\n",
       "| 1 | N  | NA | \n",
       "| 12874 | NA | NA | \n",
       "\n",
       "\n"
      ],
      "text/plain": [
       "      FLOW_DESC MARKET_PLACE\n",
       "1     N         NA          \n",
       "12874 NA        NA          "
      ]
     },
     "metadata": {},
     "output_type": "display_data"
    }
   ],
   "source": [
    "# head(data_final)\n",
    "# data_final[,names(data_final)%in%c(\"POU_PLAN\",\"POD_PLAN\",\"PULL_POU_PLAN\",\"PUSH_POU_PLAN\",\"PULL_POD_PLAN\",\"PUSH_POD_PLAN\")]\n",
    "unique(data_final[,names(data_final)%in%c(\"MARKET_PLACE\",\"FLOW_DESC\")])"
   ]
  },
  {
   "cell_type": "code",
   "execution_count": 49,
   "metadata": {},
   "outputs": [],
   "source": [
    "#Suppression data with NA for tracking time : ,\n",
    "    data_final=data_final[!is.na(data_final$STATUS_DATE_TIME),]\n",
    "\n",
    "\n",
    "    #Date transformation\n",
    "    data_final$STATUS_DATE_TIME =as.POSIXct(strptime(data_final$STATUS_DATE_TIME, \"%m/%d/%Y %I:%M:%OS %p\")) \n",
    "    data_final$ACT_NEED_DATE_TIME =as.POSIXct(strptime(data_final$ACT_NEED_DATE_TIME, \"%d/%m/%Y %H:%M\")) \n",
    "\n",
    "    data_final=data_final[order(data_final$STATUS_DATE_TIME),]\n",
    "\n",
    "\n",
    "    #Selecting last row of each group: last tracking point for each MP_CODE and ID(because several are available),\n",
    "    data_final=ddply(data_final, .(ID,MP_CODE), function(x) x[c(nrow(x)), ])\n",
    " \n",
    "  "
   ]
  },
  {
   "cell_type": "code",
   "execution_count": 6,
   "metadata": {},
   "outputs": [],
   "source": [
    "# data_final[data_final$ID==\"1_G07_4275424\",]$STATUS_DATE_TIME"
   ]
  },
  {
   "cell_type": "code",
   "execution_count": 7,
   "metadata": {},
   "outputs": [],
   "source": [
    "# unique(data_final$ID)"
   ]
  },
  {
   "cell_type": "code",
   "execution_count": 8,
   "metadata": {},
   "outputs": [],
   "source": [
    "# unique(data_final$ACT_NEED_DATE_TIME)"
   ]
  },
  {
   "cell_type": "code",
   "execution_count": 9,
   "metadata": {},
   "outputs": [],
   "source": [
    "# data_final[data_final$ID==\"1_G07_4275424\",c(\"STATUS_DATE_TIME\",\"diff\")]"
   ]
  },
  {
   "cell_type": "code",
   "execution_count": 50,
   "metadata": {},
   "outputs": [],
   "source": [
    "    #Calcultation of diff time between tracking points: \n",
    "    library(plyr)\n",
    "    data_final=data_final%>%\n",
    "    group_by(ID) %>% mutate(diff =round(STATUS_DATE_TIME-lag(STATUS_DATE_TIME))/3600)               "
   ]
  },
  {
   "cell_type": "code",
   "execution_count": 51,
   "metadata": {},
   "outputs": [],
   "source": [
    "    #Calculation TRAJECT and diff\n",
    "    data_final=data_final[order(data_final$MP_CODE),]    \n",
    "    data_final=ddply(data_final,.(ID),transform,MP_CODE_BEFORE=lag(MP_CODE))\n",
    "    data_final$TRAJECT=as.factor(paste0(data_final$MP_CODE_BEFORE,'->',data_final$MP_CODE))\n",
    "    data_final$diff <- ifelse(is.na(data_final$MP_CODE_BEFORE), NA, data_final$diff)"
   ]
  },
  {
   "cell_type": "code",
   "execution_count": 12,
   "metadata": {},
   "outputs": [],
   "source": [
    "# data_final[data_final$ID==\"1_G07_4275424\",c(\"MP_CODE\",\"MP_CODE_BEFORE\",\"TRAJECT\",\"diff\",\"STATUS_DATE_TIME\")]#    \n"
   ]
  },
  {
   "cell_type": "code",
   "execution_count": 13,
   "metadata": {},
   "outputs": [],
   "source": [
    "# data_final[data_final$TRAJECT==\"NA->80\",c(\"MP_CODE\",\"MP_CODE_BEFORE\",\"TRAJECT\",\"diff\",\"STATUS_DATE_TIME\",\"ID\")]#   "
   ]
  },
  {
   "cell_type": "code",
   "execution_count": 52,
   "metadata": {},
   "outputs": [],
   "source": [
    " #Calculation of diff time to MP_CODE tracking point to Last point: 140 ou 150: \n",
    "    library(plyr)\n",
    "    data_final=data_final[order(data_final$MP_CODE),]    \n",
    "    data_final=ddply(data_final,.(ID),mutate,DURATION_TO_140_150=round(last(STATUS_DATE_TIME)-STATUS_DATE_TIME)/3600)\n"
   ]
  },
  {
   "cell_type": "code",
   "execution_count": 15,
   "metadata": {},
   "outputs": [],
   "source": [
    "# data_final[data_final$ID==\"1_G07_4275424\",c(\"MP_CODE\",\"DURATION_TO_140_150\",\"STATUS_DATE_TIME\")]"
   ]
  },
  {
   "cell_type": "code",
   "execution_count": 53,
   "metadata": {},
   "outputs": [],
   "source": [
    "    #add jour de la semaine, mois?,matin, soir?météo? regrouper modalités de variables? NA???,\n",
    "    library(lubridate)\n",
    "    # create breaks,\n",
    "\n",
    "    breaks <- hour(hm(\"00:00\", \"6:00\", \"12:00\", \"18:00\", \"23:59\"))\n",
    "    # labels for the breaks,\n",
    "    labels <- c(\"Night\", \"Morning\", \"Afternoon\", \"Evening\")\n",
    "    data_final$DAY=weekdays(as.Date(data_final$STATUS_DATE_TIME))\n",
    "    data_final$MONTH=format(as.Date(data_final$STATUS_DATE_TIME), \"%m\")\n",
    "    data_final$AMPM=cut(x=hour(data_final$STATUS_DATE_TIME), breaks = breaks, labels = labels, include.lowest=TRUE)"
   ]
  },
  {
   "cell_type": "code",
   "execution_count": 8,
   "metadata": {},
   "outputs": [
    {
     "data": {
      "text/html": [
       "<table>\n",
       "<thead><tr><th></th><th scope=col>MP_CODE</th><th scope=col>DURATION_TO_140_150</th><th scope=col>STATUS_DATE_TIME</th><th scope=col>DAY</th><th scope=col>MONTH</th><th scope=col>AMPM</th><th scope=col>diff</th></tr></thead>\n",
       "<tbody>\n",
       "\t<tr><th scope=row>6</th><td> 80                </td><td>151.10333 secs     </td><td>2018-10-31 04:19:38</td><td>mercredi           </td><td>10                 </td><td>Night              </td><td>        NA         </td></tr>\n",
       "\t<tr><th scope=row>7</th><td> 85                </td><td> 24.27917 secs     </td><td>2018-11-05 11:09:05</td><td>lundi              </td><td>11                 </td><td>Morning            </td><td>126.824167         </td></tr>\n",
       "\t<tr><th scope=row>8</th><td> 90                </td><td> 24.27917 secs     </td><td>2018-11-05 11:09:05</td><td>lundi              </td><td>11                 </td><td>Morning            </td><td>  0.000000         </td></tr>\n",
       "\t<tr><th scope=row>9</th><td>110                </td><td> 20.06806 secs     </td><td>2018-11-05 15:21:45</td><td>lundi              </td><td>11                 </td><td>Afternoon          </td><td>  4.211111         </td></tr>\n",
       "\t<tr><th scope=row>10</th><td>140                </td><td>  0.00000 secs     </td><td>2018-11-06 11:25:50</td><td>mardi              </td><td>11                 </td><td>Morning            </td><td> 20.068056         </td></tr>\n",
       "</tbody>\n",
       "</table>\n"
      ],
      "text/latex": [
       "\\begin{tabular}{r|lllllll}\n",
       "  & MP\\_CODE & DURATION\\_TO\\_140\\_150 & STATUS\\_DATE\\_TIME & DAY & MONTH & AMPM & diff\\\\\n",
       "\\hline\n",
       "\t6 &  80                 & 151.10333 secs      & 2018-10-31 04:19:38 & mercredi            & 10                  & Night               &         NA         \\\\\n",
       "\t7 &  85                 &  24.27917 secs      & 2018-11-05 11:09:05 & lundi               & 11                  & Morning             & 126.824167         \\\\\n",
       "\t8 &  90                 &  24.27917 secs      & 2018-11-05 11:09:05 & lundi               & 11                  & Morning             &   0.000000         \\\\\n",
       "\t9 & 110                 &  20.06806 secs      & 2018-11-05 15:21:45 & lundi               & 11                  & Afternoon           &   4.211111         \\\\\n",
       "\t10 & 140                 &   0.00000 secs      & 2018-11-06 11:25:50 & mardi               & 11                  & Morning             &  20.068056         \\\\\n",
       "\\end{tabular}\n"
      ],
      "text/markdown": [
       "\n",
       "| <!--/--> | MP_CODE | DURATION_TO_140_150 | STATUS_DATE_TIME | DAY | MONTH | AMPM | diff | \n",
       "|---|---|---|---|---|\n",
       "| 6 |  80                 | 151.10333 secs      | 2018-10-31 04:19:38 | mercredi            | 10                  | Night               |         NA          | \n",
       "| 7 |  85                 |  24.27917 secs      | 2018-11-05 11:09:05 | lundi               | 11                  | Morning             | 126.824167          | \n",
       "| 8 |  90                 |  24.27917 secs      | 2018-11-05 11:09:05 | lundi               | 11                  | Morning             |   0.000000          | \n",
       "| 9 | 110                 |  20.06806 secs      | 2018-11-05 15:21:45 | lundi               | 11                  | Afternoon           |   4.211111          | \n",
       "| 10 | 140                 |   0.00000 secs      | 2018-11-06 11:25:50 | mardi               | 11                  | Morning             |  20.068056          | \n",
       "\n",
       "\n"
      ],
      "text/plain": [
       "   MP_CODE DURATION_TO_140_150 STATUS_DATE_TIME    DAY      MONTH AMPM     \n",
       "6   80     151.10333 secs      2018-10-31 04:19:38 mercredi 10    Night    \n",
       "7   85      24.27917 secs      2018-11-05 11:09:05 lundi    11    Morning  \n",
       "8   90      24.27917 secs      2018-11-05 11:09:05 lundi    11    Morning  \n",
       "9  110      20.06806 secs      2018-11-05 15:21:45 lundi    11    Afternoon\n",
       "10 140       0.00000 secs      2018-11-06 11:25:50 mardi    11    Morning  \n",
       "   diff      \n",
       "6          NA\n",
       "7  126.824167\n",
       "8    0.000000\n",
       "9    4.211111\n",
       "10  20.068056"
      ]
     },
     "metadata": {},
     "output_type": "display_data"
    }
   ],
   "source": [
    "data_final[data_final$ID==\"1_G02_2743414\",c(\"MP_CODE\",\"DURATION_TO_140_150\",\"STATUS_DATE_TIME\",\"DAY\",\"MONTH\",\"AMPM\",\"diff\")]"
   ]
  },
  {
   "cell_type": "code",
   "execution_count": 18,
   "metadata": {},
   "outputs": [],
   "source": [
    "###Cleansing data for which we have date_t2<date_t1 with t2>t1"
   ]
  },
  {
   "cell_type": "code",
   "execution_count": 46,
   "metadata": {},
   "outputs": [],
   "source": [
    "# data_final$diff[data_final$diff<0]"
   ]
  },
  {
   "cell_type": "code",
   "execution_count": 55,
   "metadata": {},
   "outputs": [
    {
     "data": {
      "text/html": [
       "<table>\n",
       "<thead><tr><th scope=col>STATUS_DATE_TIME</th><th scope=col>ACT_NEED_DATE_TIME</th><th scope=col>BATI_LIVN</th><th scope=col>BWLVS</th><th scope=col>CITY1</th><th scope=col>CONSUMING_PLANT</th><th scope=col>FLOW_DESC</th><th scope=col>LGNUM</th><th scope=col>LGORT</th><th scope=col>MARKET_PLACE</th><th scope=col>...</th><th scope=col>ID</th><th scope=col>POU_PLAN</th><th scope=col>POD_PLAN</th><th scope=col>diff</th><th scope=col>MP_CODE_BEFORE</th><th scope=col>TRAJECT</th><th scope=col>DURATION_TO_140_150</th><th scope=col>DAY</th><th scope=col>MONTH</th><th scope=col>AMPM</th></tr></thead>\n",
       "<tbody>\n",
       "\t<tr><td>2018-11-05 12:08:53                                </td><td>2018-11-06 06:00:00                                </td><td>Hub West                                           </td><td>261                                                </td><td>SAINT-NAZAIRE                                      </td><td>NZF                                                </td><td>N                                                  </td><td>G02                                                </td><td>4A2M                                               </td><td>NA                                                 </td><td>...                                                </td><td>1_G02_2743413                                      </td><td>DGG39-N0E1                                         </td><td>DGG39-S0E1                                         </td><td>127.821111                                         </td><td> 80                                                </td><td><span style=white-space:pre-wrap>80-&gt;85  </span></td><td>23.28250 secs                                      </td><td>lundi                                              </td><td>11                                                 </td><td><span style=white-space:pre-wrap>Morning  </span>  </td></tr>\n",
       "\t<tr><td>2018-11-05 15:21:45                               </td><td>2018-11-06 06:00:00                               </td><td>Hub West                                          </td><td>261                                               </td><td>SAINT-NAZAIRE                                     </td><td>NZF                                               </td><td>N                                                 </td><td>G02                                               </td><td>4A2M                                              </td><td>NA                                                </td><td>...                                               </td><td>1_G02_2743413                                     </td><td>DGG39-N0E1                                        </td><td>DGG39-S0E1                                        </td><td><span style=white-space:pre-wrap>  3.214444</span></td><td> 90                                               </td><td>90-&gt;110                                        </td><td>20.06806 secs                                     </td><td>lundi                                             </td><td>11                                                </td><td>Afternoon                                         </td></tr>\n",
       "\t<tr><td>2018-11-06 11:25:50                              </td><td>2018-11-06 06:00:00                              </td><td>Hub West                                         </td><td>261                                              </td><td>SAINT-NAZAIRE                                    </td><td>NZF                                              </td><td>N                                                </td><td>G02                                              </td><td>4A2M                                             </td><td>NA                                               </td><td>...                                              </td><td>1_G02_2743413                                    </td><td>DGG39-N0E1                                       </td><td>DGG39-S0E1                                       </td><td> 20.068056                                       </td><td>110                                              </td><td>110-&gt;140                                      </td><td> 0.00000 secs                                    </td><td>mardi                                            </td><td>11                                               </td><td><span style=white-space:pre-wrap>Morning  </span></td></tr>\n",
       "\t<tr><td>2018-11-05 11:09:05                                </td><td>2018-11-06 06:00:00                                </td><td>Hub West                                           </td><td>261                                                </td><td>SAINT-NAZAIRE                                      </td><td>NZF                                                </td><td>N                                                  </td><td>G02                                                </td><td>4A2M                                               </td><td>NA                                                 </td><td>...                                                </td><td>1_G02_2743414                                      </td><td>DGG39-N0E1                                         </td><td>DGG39-S0E1                                         </td><td>126.824167                                         </td><td> 80                                                </td><td><span style=white-space:pre-wrap>80-&gt;85  </span></td><td>24.27917 secs                                      </td><td>lundi                                              </td><td>11                                                 </td><td><span style=white-space:pre-wrap>Morning  </span>  </td></tr>\n",
       "\t<tr><td>2018-11-05 15:21:45                               </td><td>2018-11-06 06:00:00                               </td><td>Hub West                                          </td><td>261                                               </td><td>SAINT-NAZAIRE                                     </td><td>NZF                                               </td><td>N                                                 </td><td>G02                                               </td><td>4A2M                                              </td><td>NA                                                </td><td>...                                               </td><td>1_G02_2743414                                     </td><td>DGG39-N0E1                                        </td><td>DGG39-S0E1                                        </td><td><span style=white-space:pre-wrap>  4.211111</span></td><td> 90                                               </td><td>90-&gt;110                                        </td><td>20.06806 secs                                     </td><td>lundi                                             </td><td>11                                                </td><td>Afternoon                                         </td></tr>\n",
       "\t<tr><td>2018-11-06 11:25:50                              </td><td>2018-11-06 06:00:00                              </td><td>Hub West                                         </td><td>261                                              </td><td>SAINT-NAZAIRE                                    </td><td>NZF                                              </td><td>N                                                </td><td>G02                                              </td><td>4A2M                                             </td><td>NA                                               </td><td>...                                              </td><td>1_G02_2743414                                    </td><td>DGG39-N0E1                                       </td><td>DGG39-S0E1                                       </td><td> 20.068056                                       </td><td>110                                              </td><td>110-&gt;140                                      </td><td> 0.00000 secs                                    </td><td>mardi                                            </td><td>11                                               </td><td><span style=white-space:pre-wrap>Morning  </span></td></tr>\n",
       "\t<tr><td>2018-11-05 12:09:56                                </td><td>2018-11-06 06:00:00                                </td><td>Hub West                                           </td><td>261                                                </td><td>SAINT-NAZAIRE                                      </td><td>NZF                                                </td><td>N                                                  </td><td>G02                                                </td><td>4A2M                                               </td><td>NA                                                 </td><td>...                                                </td><td>1_G02_2743415                                      </td><td>DGG39-N0E1                                         </td><td>DGG39-S0E1                                         </td><td>127.838333                                         </td><td> 80                                                </td><td><span style=white-space:pre-wrap>80-&gt;85  </span></td><td>23.26500 secs                                      </td><td>lundi                                              </td><td>11                                                 </td><td><span style=white-space:pre-wrap>Morning  </span>  </td></tr>\n",
       "\t<tr><td>2018-11-05 15:21:45                               </td><td>2018-11-06 06:00:00                               </td><td>Hub West                                          </td><td>261                                               </td><td>SAINT-NAZAIRE                                     </td><td>NZF                                               </td><td>N                                                 </td><td>G02                                               </td><td>4A2M                                              </td><td>NA                                                </td><td>...                                               </td><td>1_G02_2743415                                     </td><td>DGG39-N0E1                                        </td><td>DGG39-S0E1                                        </td><td><span style=white-space:pre-wrap>  3.196944</span></td><td> 90                                               </td><td>90-&gt;110                                        </td><td>20.06806 secs                                     </td><td>lundi                                             </td><td>11                                                </td><td>Afternoon                                         </td></tr>\n",
       "\t<tr><td>2018-11-06 11:25:50                              </td><td>2018-11-06 06:00:00                              </td><td>Hub West                                         </td><td>261                                              </td><td>SAINT-NAZAIRE                                    </td><td>NZF                                              </td><td>N                                                </td><td>G02                                              </td><td>4A2M                                             </td><td>NA                                               </td><td>...                                              </td><td>1_G02_2743415                                    </td><td>DGG39-N0E1                                       </td><td>DGG39-S0E1                                       </td><td> 20.068056                                       </td><td>110                                              </td><td>110-&gt;140                                      </td><td> 0.00000 secs                                    </td><td>mardi                                            </td><td>11                                               </td><td><span style=white-space:pre-wrap>Morning  </span></td></tr>\n",
       "\t<tr><td>2018-11-05 12:10:13                                </td><td>2018-11-06 06:00:00                                </td><td>Hub West                                           </td><td>261                                                </td><td>SAINT-NAZAIRE                                      </td><td>NZF                                                </td><td>N                                                  </td><td>G02                                                </td><td>4A2M                                               </td><td>NA                                                 </td><td>...                                                </td><td>1_G02_2743416                                      </td><td>DGG39-N0E1                                         </td><td>DGG39-S0E1                                         </td><td>127.843056                                         </td><td> 80                                                </td><td><span style=white-space:pre-wrap>80-&gt;85  </span></td><td>23.26028 secs                                      </td><td>lundi                                              </td><td>11                                                 </td><td><span style=white-space:pre-wrap>Morning  </span>  </td></tr>\n",
       "\t<tr><td>2018-11-05 15:21:45                               </td><td>2018-11-06 06:00:00                               </td><td>Hub West                                          </td><td>261                                               </td><td>SAINT-NAZAIRE                                     </td><td>NZF                                               </td><td>N                                                 </td><td>G02                                               </td><td>4A2M                                              </td><td>NA                                                </td><td>...                                               </td><td>1_G02_2743416                                     </td><td>DGG39-N0E1                                        </td><td>DGG39-S0E1                                        </td><td><span style=white-space:pre-wrap>  3.192222</span></td><td> 90                                               </td><td>90-&gt;110                                        </td><td>20.06806 secs                                     </td><td>lundi                                             </td><td>11                                                </td><td>Afternoon                                         </td></tr>\n",
       "\t<tr><td>2018-11-06 11:25:50                              </td><td>2018-11-06 06:00:00                              </td><td>Hub West                                         </td><td>261                                              </td><td>SAINT-NAZAIRE                                    </td><td>NZF                                              </td><td>N                                                </td><td>G02                                              </td><td>4A2M                                             </td><td>NA                                               </td><td>...                                              </td><td>1_G02_2743416                                    </td><td>DGG39-N0E1                                       </td><td>DGG39-S0E1                                       </td><td> 20.068056                                       </td><td>110                                              </td><td>110-&gt;140                                      </td><td> 0.00000 secs                                    </td><td>mardi                                            </td><td>11                                               </td><td><span style=white-space:pre-wrap>Morning  </span></td></tr>\n",
       "\t<tr><td>2018-11-05 12:02:46                                </td><td>2018-11-06 06:00:00                                </td><td>Hub West                                           </td><td>261                                                </td><td>SAINT-NAZAIRE                                      </td><td>NZF                                                </td><td>N                                                  </td><td>G02                                                </td><td>4A2M                                               </td><td>NA                                                 </td><td>...                                                </td><td>1_G02_2743417                                      </td><td>DGG39-N0E1                                         </td><td>DGG39-S0E1                                         </td><td>127.718611                                         </td><td> 80                                                </td><td><span style=white-space:pre-wrap>80-&gt;85  </span></td><td>23.38444 secs                                      </td><td>lundi                                              </td><td>11                                                 </td><td><span style=white-space:pre-wrap>Morning  </span>  </td></tr>\n",
       "\t<tr><td>2018-11-05 15:21:45                               </td><td>2018-11-06 06:00:00                               </td><td>Hub West                                          </td><td>261                                               </td><td>SAINT-NAZAIRE                                     </td><td>NZF                                               </td><td>N                                                 </td><td>G02                                               </td><td>4A2M                                              </td><td>NA                                                </td><td>...                                               </td><td>1_G02_2743417                                     </td><td>DGG39-N0E1                                        </td><td>DGG39-S0E1                                        </td><td><span style=white-space:pre-wrap>  3.316389</span></td><td> 90                                               </td><td>90-&gt;110                                        </td><td>20.06806 secs                                     </td><td>lundi                                             </td><td>11                                                </td><td>Afternoon                                         </td></tr>\n",
       "\t<tr><td>2018-11-06 11:25:50                              </td><td>2018-11-06 06:00:00                              </td><td>Hub West                                         </td><td>261                                              </td><td>SAINT-NAZAIRE                                    </td><td>NZF                                              </td><td>N                                                </td><td>G02                                              </td><td>4A2M                                             </td><td>NA                                               </td><td>...                                              </td><td>1_G02_2743417                                    </td><td>DGG39-N0E1                                       </td><td>DGG39-S0E1                                       </td><td> 20.068056                                       </td><td>110                                              </td><td>110-&gt;140                                      </td><td> 0.00000 secs                                    </td><td>mardi                                            </td><td>11                                               </td><td><span style=white-space:pre-wrap>Morning  </span></td></tr>\n",
       "\t<tr><td>2018-11-05 11:02:23                                </td><td>2018-11-06 06:00:00                                </td><td>Hub West                                           </td><td>261                                                </td><td>SAINT-NAZAIRE                                      </td><td>NZF                                                </td><td>N                                                  </td><td>G02                                                </td><td>4A2M                                               </td><td>NA                                                 </td><td>...                                                </td><td>1_G02_2743418                                      </td><td>DGG39-N0E1                                         </td><td>DGG39-S0E1                                         </td><td>126.712222                                         </td><td> 80                                                </td><td><span style=white-space:pre-wrap>80-&gt;85  </span></td><td>24.39083 secs                                      </td><td>lundi                                              </td><td>11                                                 </td><td><span style=white-space:pre-wrap>Morning  </span>  </td></tr>\n",
       "\t<tr><td>2018-11-05 15:21:45                               </td><td>2018-11-06 06:00:00                               </td><td>Hub West                                          </td><td>261                                               </td><td>SAINT-NAZAIRE                                     </td><td>NZF                                               </td><td>N                                                 </td><td>G02                                               </td><td>4A2M                                              </td><td>NA                                                </td><td>...                                               </td><td>1_G02_2743418                                     </td><td>DGG39-N0E1                                        </td><td>DGG39-S0E1                                        </td><td><span style=white-space:pre-wrap>  4.322778</span></td><td> 90                                               </td><td>90-&gt;110                                        </td><td>20.06806 secs                                     </td><td>lundi                                             </td><td>11                                                </td><td>Afternoon                                         </td></tr>\n",
       "\t<tr><td>2018-11-06 11:25:50                              </td><td>2018-11-06 06:00:00                              </td><td>Hub West                                         </td><td>261                                              </td><td>SAINT-NAZAIRE                                    </td><td>NZF                                              </td><td>N                                                </td><td>G02                                              </td><td>4A2M                                             </td><td>NA                                               </td><td>...                                              </td><td>1_G02_2743418                                    </td><td>DGG39-N0E1                                       </td><td>DGG39-S0E1                                       </td><td> 20.068056                                       </td><td>110                                              </td><td>110-&gt;140                                      </td><td> 0.00000 secs                                    </td><td>mardi                                            </td><td>11                                               </td><td><span style=white-space:pre-wrap>Morning  </span></td></tr>\n",
       "\t<tr><td>2018-11-05 11:02:54                                </td><td>2018-11-06 06:00:00                                </td><td>Hub West                                           </td><td>261                                                </td><td>SAINT-NAZAIRE                                      </td><td>NZF                                                </td><td>N                                                  </td><td>G02                                                </td><td>4A2M                                               </td><td>NA                                                 </td><td>...                                                </td><td>1_G02_2743419                                      </td><td>DGG39-N0E1                                         </td><td>DGG39-S0E1                                         </td><td>126.720556                                         </td><td> 80                                                </td><td><span style=white-space:pre-wrap>80-&gt;85  </span></td><td>24.38222 secs                                      </td><td>lundi                                              </td><td>11                                                 </td><td><span style=white-space:pre-wrap>Morning  </span>  </td></tr>\n",
       "\t<tr><td>2018-11-05 15:21:45                               </td><td>2018-11-06 06:00:00                               </td><td>Hub West                                          </td><td>261                                               </td><td>SAINT-NAZAIRE                                     </td><td>NZF                                               </td><td>N                                                 </td><td>G02                                               </td><td>4A2M                                              </td><td>NA                                                </td><td>...                                               </td><td>1_G02_2743419                                     </td><td>DGG39-N0E1                                        </td><td>DGG39-S0E1                                        </td><td><span style=white-space:pre-wrap>  4.314167</span></td><td> 90                                               </td><td>90-&gt;110                                        </td><td>20.06806 secs                                     </td><td>lundi                                             </td><td>11                                                </td><td>Afternoon                                         </td></tr>\n",
       "\t<tr><td>2018-11-06 11:25:50                              </td><td>2018-11-06 06:00:00                              </td><td>Hub West                                         </td><td>261                                              </td><td>SAINT-NAZAIRE                                    </td><td>NZF                                              </td><td>N                                                </td><td>G02                                              </td><td>4A2M                                             </td><td>NA                                               </td><td>...                                              </td><td>1_G02_2743419                                    </td><td>DGG39-N0E1                                       </td><td>DGG39-S0E1                                       </td><td> 20.068056                                       </td><td>110                                              </td><td>110-&gt;140                                      </td><td> 0.00000 secs                                    </td><td>mardi                                            </td><td>11                                               </td><td><span style=white-space:pre-wrap>Morning  </span></td></tr>\n",
       "\t<tr><td>2018-11-05 11:10:21                                </td><td>2018-11-06 06:00:00                                </td><td>Hub West                                           </td><td>261                                                </td><td>SAINT-NAZAIRE                                      </td><td>NZF                                                </td><td>N                                                  </td><td>G02                                                </td><td>4A2M                                               </td><td>NA                                                 </td><td>...                                                </td><td>1_G02_2743420                                      </td><td>DGG39-N0E1                                         </td><td>DGG39-S0E1                                         </td><td>126.844722                                         </td><td> 80                                                </td><td><span style=white-space:pre-wrap>80-&gt;85  </span></td><td>24.25806 secs                                      </td><td>lundi                                              </td><td>11                                                 </td><td><span style=white-space:pre-wrap>Morning  </span>  </td></tr>\n",
       "\t<tr><td>2018-11-05 15:21:45                               </td><td>2018-11-06 06:00:00                               </td><td>Hub West                                          </td><td>261                                               </td><td>SAINT-NAZAIRE                                     </td><td>NZF                                               </td><td>N                                                 </td><td>G02                                               </td><td>4A2M                                              </td><td>NA                                                </td><td>...                                               </td><td>1_G02_2743420                                     </td><td>DGG39-N0E1                                        </td><td>DGG39-S0E1                                        </td><td><span style=white-space:pre-wrap>  4.190000</span></td><td> 90                                               </td><td>90-&gt;110                                        </td><td>20.06806 secs                                     </td><td>lundi                                             </td><td>11                                                </td><td>Afternoon                                         </td></tr>\n",
       "\t<tr><td>2018-11-06 11:25:50                              </td><td>2018-11-06 06:00:00                              </td><td>Hub West                                         </td><td>261                                              </td><td>SAINT-NAZAIRE                                    </td><td>NZF                                              </td><td>N                                                </td><td>G02                                              </td><td>4A2M                                             </td><td>NA                                               </td><td>...                                              </td><td>1_G02_2743420                                    </td><td>DGG39-N0E1                                       </td><td>DGG39-S0E1                                       </td><td> 20.068056                                       </td><td>110                                              </td><td>110-&gt;140                                      </td><td> 0.00000 secs                                    </td><td>mardi                                            </td><td>11                                               </td><td><span style=white-space:pre-wrap>Morning  </span></td></tr>\n",
       "\t<tr><td>2018-11-05 11:09:44                                </td><td>2018-11-06 06:00:00                                </td><td>Hub West                                           </td><td>261                                                </td><td>SAINT-NAZAIRE                                      </td><td>NZF                                                </td><td>N                                                  </td><td>G02                                                </td><td>4A2M                                               </td><td>NA                                                 </td><td>...                                                </td><td>1_G02_2743421                                      </td><td>DGG39-N0E1                                         </td><td>DGG39-S0E1                                         </td><td>126.834167                                         </td><td> 80                                                </td><td><span style=white-space:pre-wrap>80-&gt;85  </span></td><td>24.26833 secs                                      </td><td>lundi                                              </td><td>11                                                 </td><td><span style=white-space:pre-wrap>Morning  </span>  </td></tr>\n",
       "\t<tr><td>2018-11-05 15:21:45                               </td><td>2018-11-06 06:00:00                               </td><td>Hub West                                          </td><td>261                                               </td><td>SAINT-NAZAIRE                                     </td><td>NZF                                               </td><td>N                                                 </td><td>G02                                               </td><td>4A2M                                              </td><td>NA                                                </td><td>...                                               </td><td>1_G02_2743421                                     </td><td>DGG39-N0E1                                        </td><td>DGG39-S0E1                                        </td><td><span style=white-space:pre-wrap>  4.200278</span></td><td> 90                                               </td><td>90-&gt;110                                        </td><td>20.06806 secs                                     </td><td>lundi                                             </td><td>11                                                </td><td>Afternoon                                         </td></tr>\n",
       "\t<tr><td>2018-11-06 11:25:50                              </td><td>2018-11-06 06:00:00                              </td><td>Hub West                                         </td><td>261                                              </td><td>SAINT-NAZAIRE                                    </td><td>NZF                                              </td><td>N                                                </td><td>G02                                              </td><td>4A2M                                             </td><td>NA                                               </td><td>...                                              </td><td>1_G02_2743421                                    </td><td>DGG39-N0E1                                       </td><td>DGG39-S0E1                                       </td><td> 20.068056                                       </td><td>110                                              </td><td>110-&gt;140                                      </td><td> 0.00000 secs                                    </td><td>mardi                                            </td><td>11                                               </td><td><span style=white-space:pre-wrap>Morning  </span></td></tr>\n",
       "\t<tr><td>2018-11-05 11:46:37                                </td><td>2018-11-06 06:00:00                                </td><td>Hub West                                           </td><td>261                                                </td><td>SAINT-NAZAIRE                                      </td><td>NZF                                                </td><td>N                                                  </td><td>G02                                                </td><td>4A2M                                               </td><td>NA                                                 </td><td>...                                                </td><td>1_G02_2743422                                      </td><td>DGG39-N0E1                                         </td><td>DGG39-S0E1                                         </td><td>127.448889                                         </td><td> 80                                                </td><td><span style=white-space:pre-wrap>80-&gt;85  </span></td><td>23.65361 secs                                      </td><td>lundi                                              </td><td>11                                                 </td><td><span style=white-space:pre-wrap>Morning  </span>  </td></tr>\n",
       "\t<tr><td>2018-11-05 15:21:45                               </td><td>2018-11-06 06:00:00                               </td><td>Hub West                                          </td><td>261                                               </td><td>SAINT-NAZAIRE                                     </td><td>NZF                                               </td><td>N                                                 </td><td>G02                                               </td><td>4A2M                                              </td><td>NA                                                </td><td>...                                               </td><td>1_G02_2743422                                     </td><td>DGG39-N0E1                                        </td><td>DGG39-S0E1                                        </td><td><span style=white-space:pre-wrap>  3.585556</span></td><td> 90                                               </td><td>90-&gt;110                                        </td><td>20.06806 secs                                     </td><td>lundi                                             </td><td>11                                                </td><td>Afternoon                                         </td></tr>\n",
       "\t<tr><td>2018-11-06 11:25:50                              </td><td>2018-11-06 06:00:00                              </td><td>Hub West                                         </td><td>261                                              </td><td>SAINT-NAZAIRE                                    </td><td>NZF                                              </td><td>N                                                </td><td>G02                                              </td><td>4A2M                                             </td><td>NA                                               </td><td>...                                              </td><td>1_G02_2743422                                    </td><td>DGG39-N0E1                                       </td><td>DGG39-S0E1                                       </td><td> 20.068056                                       </td><td>110                                              </td><td>110-&gt;140                                      </td><td> 0.00000 secs                                    </td><td>mardi                                            </td><td>11                                               </td><td><span style=white-space:pre-wrap>Morning  </span></td></tr>\n",
       "\t<tr><td>...</td><td>...</td><td>...</td><td>...</td><td>...</td><td>...</td><td>...</td><td>...</td><td>...</td><td>...</td><td>   </td><td>...</td><td>...</td><td>...</td><td>...</td><td>...</td><td>...</td><td>...</td><td>...</td><td>...</td><td>...</td></tr>\n",
       "\t<tr><td>2018-09-25 09:47:59                              </td><td>2018-09-20 05:18:00                              </td><td>Hub West                                         </td><td>261                                              </td><td>SAINT-NAZAIRE                                    </td><td>NZF                                              </td><td>N                                                </td><td>Z21                                              </td><td>Z21M                                             </td><td>NA                                               </td><td>...                                              </td><td>1_Z21_3226732                                    </td><td>DGG23-Z0Z1                                       </td><td>DGG23-Z0Z4                                       </td><td> 24.77250000                                     </td><td>105                                              </td><td>105-&gt;110                                      </td><td> 20.54611 secs                                   </td><td><span style=white-space:pre-wrap>mardi   </span> </td><td>09                                               </td><td><span style=white-space:pre-wrap>Morning  </span></td></tr>\n",
       "\t<tr><td>2018-09-26 06:20:45                                   </td><td>2018-09-20 05:18:00                                   </td><td>Hub West                                              </td><td>261                                                   </td><td>SAINT-NAZAIRE                                         </td><td>NZF                                                   </td><td>N                                                     </td><td>Z21                                                   </td><td>Z21M                                                  </td><td>NA                                                    </td><td>...                                                   </td><td>1_Z21_3226732                                         </td><td>DGG23-Z0Z1                                            </td><td>DGG23-Z0Z4                                            </td><td> 20.54611111                                          </td><td>110                                                   </td><td>110-&gt;150                                           </td><td><span style=white-space:pre-wrap>  0.00000 secs</span></td><td>mercredi                                              </td><td>09                                                    </td><td><span style=white-space:pre-wrap>Night    </span>     </td></tr>\n",
       "\t<tr><td>2018-09-18 17:34:55                                </td><td>2018-09-20 05:18:00                                </td><td>Hub West                                           </td><td>261                                                </td><td>SAINT-NAZAIRE                                      </td><td>NZF                                                </td><td>N                                                  </td><td>Z21                                                </td><td>Z21M                                               </td><td>NA                                                 </td><td>...                                                </td><td>1_Z21_3226733                                      </td><td>DGG23-Z0Z1                                         </td><td>DGG23-Z0Z4                                         </td><td>108.84555556                                       </td><td> 80                                                </td><td><span style=white-space:pre-wrap>80-&gt;85  </span></td><td>180.76389 secs                                     </td><td><span style=white-space:pre-wrap>mardi   </span>   </td><td>09                                                 </td><td>Afternoon                                          </td></tr>\n",
       "\t<tr><td>2018-09-24 09:01:38                              </td><td>2018-09-20 05:18:00                              </td><td>Hub West                                         </td><td>261                                              </td><td>SAINT-NAZAIRE                                    </td><td>NZF                                              </td><td>N                                                </td><td>Z21                                              </td><td>Z21M                                             </td><td>NA                                               </td><td>...                                              </td><td>1_Z21_3226733                                    </td><td>DGG23-Z0Z1                                       </td><td>DGG23-Z0Z4                                       </td><td>135.44527778                                     </td><td> 90                                              </td><td>90-&gt;105                                       </td><td> 45.31861 secs                                   </td><td><span style=white-space:pre-wrap>lundi   </span> </td><td>09                                               </td><td><span style=white-space:pre-wrap>Morning  </span></td></tr>\n",
       "\t<tr><td>2018-09-25 09:47:59                              </td><td>2018-09-20 05:18:00                              </td><td>Hub West                                         </td><td>261                                              </td><td>SAINT-NAZAIRE                                    </td><td>NZF                                              </td><td>N                                                </td><td>Z21                                              </td><td>Z21M                                             </td><td>NA                                               </td><td>...                                              </td><td>1_Z21_3226733                                    </td><td>DGG23-Z0Z1                                       </td><td>DGG23-Z0Z4                                       </td><td> 24.77250000                                     </td><td>105                                              </td><td>105-&gt;110                                      </td><td> 20.54611 secs                                   </td><td><span style=white-space:pre-wrap>mardi   </span> </td><td>09                                               </td><td><span style=white-space:pre-wrap>Morning  </span></td></tr>\n",
       "\t<tr><td>2018-09-26 06:20:45                                   </td><td>2018-09-20 05:18:00                                   </td><td>Hub West                                              </td><td>261                                                   </td><td>SAINT-NAZAIRE                                         </td><td>NZF                                                   </td><td>N                                                     </td><td>Z21                                                   </td><td>Z21M                                                  </td><td>NA                                                    </td><td>...                                                   </td><td>1_Z21_3226733                                         </td><td>DGG23-Z0Z1                                            </td><td>DGG23-Z0Z4                                            </td><td> 20.54611111                                          </td><td>110                                                   </td><td>110-&gt;150                                           </td><td><span style=white-space:pre-wrap>  0.00000 secs</span></td><td>mercredi                                              </td><td>09                                                    </td><td><span style=white-space:pre-wrap>Night    </span>     </td></tr>\n",
       "\t<tr><td>2018-09-18 17:34:55                                </td><td>2018-09-20 05:18:00                                </td><td>Hub West                                           </td><td>261                                                </td><td>SAINT-NAZAIRE                                      </td><td>NZF                                                </td><td>N                                                  </td><td>Z21                                                </td><td>Z21M                                               </td><td>NA                                                 </td><td>...                                                </td><td>1_Z21_3226734                                      </td><td>DGG23-Z0Z1                                         </td><td>DGG23-Z0Z4                                         </td><td>108.84555556                                       </td><td> 80                                                </td><td><span style=white-space:pre-wrap>80-&gt;85  </span></td><td>180.76389 secs                                     </td><td><span style=white-space:pre-wrap>mardi   </span>   </td><td>09                                                 </td><td>Afternoon                                          </td></tr>\n",
       "\t<tr><td>2018-09-24 09:01:38                              </td><td>2018-09-20 05:18:00                              </td><td>Hub West                                         </td><td>261                                              </td><td>SAINT-NAZAIRE                                    </td><td>NZF                                              </td><td>N                                                </td><td>Z21                                              </td><td>Z21M                                             </td><td>NA                                               </td><td>...                                              </td><td>1_Z21_3226734                                    </td><td>DGG23-Z0Z1                                       </td><td>DGG23-Z0Z4                                       </td><td>135.44527778                                     </td><td> 90                                              </td><td>90-&gt;105                                       </td><td> 45.31861 secs                                   </td><td><span style=white-space:pre-wrap>lundi   </span> </td><td>09                                               </td><td><span style=white-space:pre-wrap>Morning  </span></td></tr>\n",
       "\t<tr><td>2018-09-25 09:47:59                              </td><td>2018-09-20 05:18:00                              </td><td>Hub West                                         </td><td>261                                              </td><td>SAINT-NAZAIRE                                    </td><td>NZF                                              </td><td>N                                                </td><td>Z21                                              </td><td>Z21M                                             </td><td>NA                                               </td><td>...                                              </td><td>1_Z21_3226734                                    </td><td>DGG23-Z0Z1                                       </td><td>DGG23-Z0Z4                                       </td><td> 24.77250000                                     </td><td>105                                              </td><td>105-&gt;110                                      </td><td> 20.54611 secs                                   </td><td><span style=white-space:pre-wrap>mardi   </span> </td><td>09                                               </td><td><span style=white-space:pre-wrap>Morning  </span></td></tr>\n",
       "\t<tr><td>2018-09-26 06:20:45                                   </td><td>2018-09-20 05:18:00                                   </td><td>Hub West                                              </td><td>261                                                   </td><td>SAINT-NAZAIRE                                         </td><td>NZF                                                   </td><td>N                                                     </td><td>Z21                                                   </td><td>Z21M                                                  </td><td>NA                                                    </td><td>...                                                   </td><td>1_Z21_3226734                                         </td><td>DGG23-Z0Z1                                            </td><td>DGG23-Z0Z4                                            </td><td> 20.54611111                                          </td><td>110                                                   </td><td>110-&gt;150                                           </td><td><span style=white-space:pre-wrap>  0.00000 secs</span></td><td>mercredi                                              </td><td>09                                                    </td><td><span style=white-space:pre-wrap>Night    </span>     </td></tr>\n",
       "\t<tr><td>2018-09-20 08:24:28                                </td><td>2018-09-21 15:00:00                                </td><td>Hub West                                           </td><td>261                                                </td><td>SAINT-NAZAIRE                                      </td><td>NZF                                                </td><td>N                                                  </td><td>Z21                                                </td><td>Z21M                                               </td><td>NA                                                 </td><td>...                                                </td><td>1_Z21_3228442                                      </td><td>DGG23-Z0Z1                                         </td><td>DGG23-Z0Z6                                         </td><td>123.86500000                                       </td><td> 80                                                </td><td><span style=white-space:pre-wrap>80-&gt;85  </span></td><td>197.80139 secs                                     </td><td><span style=white-space:pre-wrap>jeudi   </span>   </td><td>09                                                 </td><td><span style=white-space:pre-wrap>Morning  </span>  </td></tr>\n",
       "\t<tr><td>2018-09-21 12:10:42                              </td><td>2018-09-21 15:00:00                              </td><td>Hub West                                         </td><td>261                                              </td><td>SAINT-NAZAIRE                                    </td><td>NZF                                              </td><td>N                                                </td><td>Z21                                              </td><td>Z21M                                             </td><td>NA                                               </td><td>...                                              </td><td>1_Z21_3228442                                    </td><td>DGG23-Z0Z1                                       </td><td>DGG23-Z0Z6                                       </td><td> 27.77055556                                     </td><td> 90                                              </td><td>90-&gt;110                                       </td><td>170.03083 secs                                   </td><td>vendredi                                         </td><td>09                                               </td><td><span style=white-space:pre-wrap>Morning  </span></td></tr>\n",
       "\t<tr><td>2018-09-28 14:12:33                                   </td><td>2018-09-21 15:00:00                                   </td><td>Hub West                                              </td><td>261                                                   </td><td>SAINT-NAZAIRE                                         </td><td>NZF                                                   </td><td>N                                                     </td><td>Z21                                                   </td><td>Z21M                                                  </td><td>NA                                                    </td><td>...                                                   </td><td>1_Z21_3228442                                         </td><td>DGG23-Z0Z1                                            </td><td>DGG23-Z0Z6                                            </td><td>170.03083333                                          </td><td>110                                                   </td><td>110-&gt;150                                           </td><td><span style=white-space:pre-wrap>  0.00000 secs</span></td><td>vendredi                                              </td><td>09                                                    </td><td>Afternoon                                             </td></tr>\n",
       "\t<tr><td>2018-09-20 08:24:32                                </td><td>2018-09-21 15:00:00                                </td><td>Hub West                                           </td><td>261                                                </td><td>SAINT-NAZAIRE                                      </td><td>NZF                                                </td><td>N                                                  </td><td>Z21                                                </td><td>Z21M                                               </td><td>NA                                                 </td><td>...                                                </td><td>1_Z21_3228443                                      </td><td>DGG23-Z0Z1                                         </td><td>DGG23-Z0Z6                                         </td><td>123.86611111                                       </td><td> 80                                                </td><td><span style=white-space:pre-wrap>80-&gt;85  </span></td><td>197.80028 secs                                     </td><td><span style=white-space:pre-wrap>jeudi   </span>   </td><td>09                                                 </td><td><span style=white-space:pre-wrap>Morning  </span>  </td></tr>\n",
       "\t<tr><td>2018-09-21 12:10:42                              </td><td>2018-09-21 15:00:00                              </td><td>Hub West                                         </td><td>261                                              </td><td>SAINT-NAZAIRE                                    </td><td>NZF                                              </td><td>N                                                </td><td>Z21                                              </td><td>Z21M                                             </td><td>NA                                               </td><td>...                                              </td><td>1_Z21_3228443                                    </td><td>DGG23-Z0Z1                                       </td><td>DGG23-Z0Z6                                       </td><td> 27.76944444                                     </td><td> 90                                              </td><td>90-&gt;110                                       </td><td>170.03083 secs                                   </td><td>vendredi                                         </td><td>09                                               </td><td><span style=white-space:pre-wrap>Morning  </span></td></tr>\n",
       "\t<tr><td>2018-09-28 14:12:33                                   </td><td>2018-09-21 15:00:00                                   </td><td>Hub West                                              </td><td>261                                                   </td><td>SAINT-NAZAIRE                                         </td><td>NZF                                                   </td><td>N                                                     </td><td>Z21                                                   </td><td>Z21M                                                  </td><td>NA                                                    </td><td>...                                                   </td><td>1_Z21_3228443                                         </td><td>DGG23-Z0Z1                                            </td><td>DGG23-Z0Z6                                            </td><td>170.03083333                                          </td><td>110                                                   </td><td>110-&gt;150                                           </td><td><span style=white-space:pre-wrap>  0.00000 secs</span></td><td>vendredi                                              </td><td>09                                                    </td><td>Afternoon                                             </td></tr>\n",
       "\t<tr><td>2018-11-05 12:47:40                                </td><td>2018-11-06 06:00:00                                </td><td>Hub West                                           </td><td>261                                                </td><td>SAINT-NAZAIRE                                      </td><td>NZF                                                </td><td>N                                                  </td><td>G02                                                </td><td>4A2M                                               </td><td>NA                                                 </td><td>...                                                </td><td>2_G02_2743528                                      </td><td>DGG39-N0E1                                         </td><td>DGG39-S0E1                                         </td><td>128.45138889                                       </td><td> 80                                                </td><td><span style=white-space:pre-wrap>80-&gt;85  </span></td><td> 22.63611 secs                                     </td><td><span style=white-space:pre-wrap>lundi   </span>   </td><td>11                                                 </td><td><span style=white-space:pre-wrap>Morning  </span>  </td></tr>\n",
       "\t<tr><td>2018-11-05 15:21:45                                 </td><td>2018-11-06 06:00:00                                 </td><td>Hub West                                            </td><td>261                                                 </td><td>SAINT-NAZAIRE                                       </td><td>NZF                                                 </td><td>N                                                   </td><td>G02                                                 </td><td>4A2M                                                </td><td>NA                                                  </td><td>...                                                 </td><td>2_G02_2743528                                       </td><td>DGG39-N0E1                                          </td><td>DGG39-S0E1                                          </td><td><span style=white-space:pre-wrap>  2.56805556</span></td><td> 90                                                 </td><td>90-&gt;110                                          </td><td> 20.06806 secs                                      </td><td><span style=white-space:pre-wrap>lundi   </span>    </td><td>11                                                  </td><td>Afternoon                                           </td></tr>\n",
       "\t<tr><td>2018-11-06 11:25:50                                   </td><td>2018-11-06 06:00:00                                   </td><td>Hub West                                              </td><td>261                                                   </td><td>SAINT-NAZAIRE                                         </td><td>NZF                                                   </td><td>N                                                     </td><td>G02                                                   </td><td>4A2M                                                  </td><td>NA                                                    </td><td>...                                                   </td><td>2_G02_2743528                                         </td><td>DGG39-N0E1                                            </td><td>DGG39-S0E1                                            </td><td> 20.06805556                                          </td><td>110                                                   </td><td>110-&gt;140                                           </td><td><span style=white-space:pre-wrap>  0.00000 secs</span></td><td><span style=white-space:pre-wrap>mardi   </span>      </td><td>11                                                    </td><td><span style=white-space:pre-wrap>Morning  </span>     </td></tr>\n",
       "\t<tr><td>2018-09-20 09:06:50                                </td><td>2018-09-21 15:00:00                                </td><td>Hub West                                           </td><td>261                                                </td><td>SAINT-NAZAIRE                                      </td><td>NZF                                                </td><td>N                                                  </td><td>Z20                                                </td><td>Z48M                                               </td><td>NA                                                 </td><td>...                                                </td><td>2_Z20_5028944                                      </td><td>DGG23-Z0Z1                                         </td><td>DGG23-Z0Z6                                         </td><td>148.62083333                                       </td><td> 80                                                </td><td><span style=white-space:pre-wrap>80-&gt;85  </span></td><td>197.09528 secs                                     </td><td><span style=white-space:pre-wrap>jeudi   </span>   </td><td>09                                                 </td><td><span style=white-space:pre-wrap>Morning  </span>  </td></tr>\n",
       "\t<tr><td>2018-09-21 12:10:42                              </td><td>2018-09-21 15:00:00                              </td><td>Hub West                                         </td><td>261                                              </td><td>SAINT-NAZAIRE                                    </td><td>NZF                                              </td><td>N                                                </td><td>Z20                                              </td><td>Z48M                                             </td><td>NA                                               </td><td>...                                              </td><td>2_Z20_5028944                                    </td><td>DGG23-Z0Z1                                       </td><td>DGG23-Z0Z6                                       </td><td> 27.06444444                                     </td><td> 90                                              </td><td>90-&gt;110                                       </td><td>170.03083 secs                                   </td><td>vendredi                                         </td><td>09                                               </td><td><span style=white-space:pre-wrap>Morning  </span></td></tr>\n",
       "\t<tr><td>2018-09-28 14:12:33                                   </td><td>2018-09-21 15:00:00                                   </td><td>Hub West                                              </td><td>261                                                   </td><td>SAINT-NAZAIRE                                         </td><td>NZF                                                   </td><td>N                                                     </td><td>Z20                                                   </td><td>Z48M                                                  </td><td>NA                                                    </td><td>...                                                   </td><td>2_Z20_5028944                                         </td><td>DGG23-Z0Z1                                            </td><td>DGG23-Z0Z6                                            </td><td>170.03083333                                          </td><td>110                                                   </td><td>110-&gt;150                                           </td><td><span style=white-space:pre-wrap>  0.00000 secs</span></td><td>vendredi                                              </td><td>09                                                    </td><td>Afternoon                                             </td></tr>\n",
       "\t<tr><td>2018-10-08 11:39:45                                </td><td>2018-10-10 23:59:00                                </td><td>Hub West                                           </td><td>911                                                </td><td>SAINT-NAZAIRE                                      </td><td>NA                                                 </td><td>NA                                                 </td><td>Z20                                                </td><td>Z48M                                               </td><td>NA                                                 </td><td>...                                                </td><td>2_Z20_5115778                                      </td><td><span style=white-space:pre-wrap>          </span> </td><td>GHUBQARRIV                                         </td><td> 71.16611111                                       </td><td> 80                                                </td><td><span style=white-space:pre-wrap>80-&gt;85  </span></td><td>-96.04500 secs                                     </td><td><span style=white-space:pre-wrap>lundi   </span>   </td><td>10                                                 </td><td><span style=white-space:pre-wrap>Morning  </span>  </td></tr>\n",
       "\t<tr><td>2018-10-08 11:42:16                                 </td><td>2018-10-10 23:59:00                                 </td><td>Hub West                                            </td><td>911                                                 </td><td>SAINT-NAZAIRE                                       </td><td>NA                                                  </td><td>NA                                                  </td><td>Z20                                                 </td><td>Z48M                                                </td><td>NA                                                  </td><td>...                                                 </td><td>2_Z20_5115778                                       </td><td><span style=white-space:pre-wrap>          </span>  </td><td>GHUBQARRIV                                          </td><td><span style=white-space:pre-wrap>  0.04194444</span></td><td> 90                                                 </td><td>90-&gt;105                                          </td><td>-96.08694 secs                                      </td><td><span style=white-space:pre-wrap>lundi   </span>    </td><td>10                                                  </td><td><span style=white-space:pre-wrap>Morning  </span>   </td></tr>\n",
       "\t<tr><td>2018-10-08 11:38:43                                </td><td>2018-10-10 23:59:00                                </td><td>Hub West                                           </td><td>911                                                </td><td>SAINT-NAZAIRE                                      </td><td>NA                                                 </td><td>NA                                                 </td><td>Z20                                                </td><td>Z48M                                               </td><td>NA                                                 </td><td>...                                                </td><td>2_Z20_5115797                                      </td><td><span style=white-space:pre-wrap>          </span> </td><td>DGC09-3REA                                         </td><td> 71.14722222                                       </td><td> 80                                                </td><td><span style=white-space:pre-wrap>80-&gt;85  </span></td><td>-96.02778 secs                                     </td><td><span style=white-space:pre-wrap>lundi   </span>   </td><td>10                                                 </td><td><span style=white-space:pre-wrap>Morning  </span>  </td></tr>\n",
       "\t<tr><td>2018-10-08 11:42:16                                 </td><td>2018-10-10 23:59:00                                 </td><td>Hub West                                            </td><td>911                                                 </td><td>SAINT-NAZAIRE                                       </td><td>NA                                                  </td><td>NA                                                  </td><td>Z20                                                 </td><td>Z48M                                                </td><td>NA                                                  </td><td>...                                                 </td><td>2_Z20_5115797                                       </td><td><span style=white-space:pre-wrap>          </span>  </td><td>DGC09-3REA                                          </td><td><span style=white-space:pre-wrap>  0.05916667</span></td><td> 90                                                 </td><td>90-&gt;105                                          </td><td>-96.08694 secs                                      </td><td><span style=white-space:pre-wrap>lundi   </span>    </td><td>10                                                  </td><td><span style=white-space:pre-wrap>Morning  </span>   </td></tr>\n",
       "\t<tr><td>2018-10-08 11:40:16                                </td><td>2018-10-10 23:59:00                                </td><td>Hub West                                           </td><td>911                                                </td><td>SAINT-NAZAIRE                                      </td><td>NA                                                 </td><td>NA                                                 </td><td>Z20                                                </td><td>Z48M                                               </td><td>NA                                                 </td><td>...                                                </td><td>2_Z20_5115824                                      </td><td><span style=white-space:pre-wrap>          </span> </td><td>GHUBQARRIV                                         </td><td> 71.17194444                                       </td><td> 80                                                </td><td><span style=white-space:pre-wrap>80-&gt;85  </span></td><td>-96.05361 secs                                     </td><td><span style=white-space:pre-wrap>lundi   </span>   </td><td>10                                                 </td><td><span style=white-space:pre-wrap>Morning  </span>  </td></tr>\n",
       "\t<tr><td>2018-10-08 11:42:16                                 </td><td>2018-10-10 23:59:00                                 </td><td>Hub West                                            </td><td>911                                                 </td><td>SAINT-NAZAIRE                                       </td><td>NA                                                  </td><td>NA                                                  </td><td>Z20                                                 </td><td>Z48M                                                </td><td>NA                                                  </td><td>...                                                 </td><td>2_Z20_5115824                                       </td><td><span style=white-space:pre-wrap>          </span>  </td><td>GHUBQARRIV                                          </td><td><span style=white-space:pre-wrap>  0.03333333</span></td><td> 90                                                 </td><td>90-&gt;105                                          </td><td>-96.08694 secs                                      </td><td><span style=white-space:pre-wrap>lundi   </span>    </td><td>10                                                  </td><td><span style=white-space:pre-wrap>Morning  </span>   </td></tr>\n",
       "\t<tr><td>2018-10-08 11:40:31                                </td><td>2018-10-10 23:59:00                                </td><td>Hub West                                           </td><td>911                                                </td><td>SAINT-NAZAIRE                                      </td><td>NA                                                 </td><td>NA                                                 </td><td>Z20                                                </td><td>Z48M                                               </td><td>NA                                                 </td><td>...                                                </td><td>2_Z20_5115874                                      </td><td><span style=white-space:pre-wrap>          </span> </td><td>DGC09-3REA                                         </td><td> 71.17444444                                       </td><td> 80                                                </td><td><span style=white-space:pre-wrap>80-&gt;85  </span></td><td>-96.05778 secs                                     </td><td><span style=white-space:pre-wrap>lundi   </span>   </td><td>10                                                 </td><td><span style=white-space:pre-wrap>Morning  </span>  </td></tr>\n",
       "\t<tr><td>2018-10-08 11:42:16                                 </td><td>2018-10-10 23:59:00                                 </td><td>Hub West                                            </td><td>911                                                 </td><td>SAINT-NAZAIRE                                       </td><td>NA                                                  </td><td>NA                                                  </td><td>Z20                                                 </td><td>Z48M                                                </td><td>NA                                                  </td><td>...                                                 </td><td>2_Z20_5115874                                       </td><td><span style=white-space:pre-wrap>          </span>  </td><td>DGC09-3REA                                          </td><td><span style=white-space:pre-wrap>  0.02916667</span></td><td> 90                                                 </td><td>90-&gt;105                                          </td><td>-96.08694 secs                                      </td><td><span style=white-space:pre-wrap>lundi   </span>    </td><td>10                                                  </td><td><span style=white-space:pre-wrap>Morning  </span>   </td></tr>\n",
       "</tbody>\n",
       "</table>\n"
      ],
      "text/latex": [
       "\\begin{tabular}{r|lllllllllllllllllllllllllllll}\n",
       " STATUS\\_DATE\\_TIME & ACT\\_NEED\\_DATE\\_TIME & BATI\\_LIVN & BWLVS & CITY1 & CONSUMING\\_PLANT & FLOW\\_DESC & LGNUM & LGORT & MARKET\\_PLACE & ... & ID & POU\\_PLAN & POD\\_PLAN & diff & MP\\_CODE\\_BEFORE & TRAJECT & DURATION\\_TO\\_140\\_150 & DAY & MONTH & AMPM\\\\\n",
       "\\hline\n",
       "\t 2018-11-05 12:08:53 & 2018-11-06 06:00:00 & Hub West            & 261                 & SAINT-NAZAIRE       & NZF                 & N                   & G02                 & 4A2M                & NA                  & ...                 & 1\\_G02\\_2743413   & DGG39-N0E1          & DGG39-S0E1          & 127.821111          &  80                 & 80->85              & 23.28250 secs       & lundi               & 11                  & Morning            \\\\\n",
       "\t 2018-11-05 15:21:45 & 2018-11-06 06:00:00 & Hub West            & 261                 & SAINT-NAZAIRE       & NZF                 & N                   & G02                 & 4A2M                & NA                  & ...                 & 1\\_G02\\_2743413   & DGG39-N0E1          & DGG39-S0E1          &   3.214444          &  90                 & 90->110             & 20.06806 secs       & lundi               & 11                  & Afternoon          \\\\\n",
       "\t 2018-11-06 11:25:50 & 2018-11-06 06:00:00 & Hub West            & 261                 & SAINT-NAZAIRE       & NZF                 & N                   & G02                 & 4A2M                & NA                  & ...                 & 1\\_G02\\_2743413   & DGG39-N0E1          & DGG39-S0E1          &  20.068056          & 110                 & 110->140            &  0.00000 secs       & mardi               & 11                  & Morning            \\\\\n",
       "\t 2018-11-05 11:09:05 & 2018-11-06 06:00:00 & Hub West            & 261                 & SAINT-NAZAIRE       & NZF                 & N                   & G02                 & 4A2M                & NA                  & ...                 & 1\\_G02\\_2743414   & DGG39-N0E1          & DGG39-S0E1          & 126.824167          &  80                 & 80->85              & 24.27917 secs       & lundi               & 11                  & Morning            \\\\\n",
       "\t 2018-11-05 15:21:45 & 2018-11-06 06:00:00 & Hub West            & 261                 & SAINT-NAZAIRE       & NZF                 & N                   & G02                 & 4A2M                & NA                  & ...                 & 1\\_G02\\_2743414   & DGG39-N0E1          & DGG39-S0E1          &   4.211111          &  90                 & 90->110             & 20.06806 secs       & lundi               & 11                  & Afternoon          \\\\\n",
       "\t 2018-11-06 11:25:50 & 2018-11-06 06:00:00 & Hub West            & 261                 & SAINT-NAZAIRE       & NZF                 & N                   & G02                 & 4A2M                & NA                  & ...                 & 1\\_G02\\_2743414   & DGG39-N0E1          & DGG39-S0E1          &  20.068056          & 110                 & 110->140            &  0.00000 secs       & mardi               & 11                  & Morning            \\\\\n",
       "\t 2018-11-05 12:09:56 & 2018-11-06 06:00:00 & Hub West            & 261                 & SAINT-NAZAIRE       & NZF                 & N                   & G02                 & 4A2M                & NA                  & ...                 & 1\\_G02\\_2743415   & DGG39-N0E1          & DGG39-S0E1          & 127.838333          &  80                 & 80->85              & 23.26500 secs       & lundi               & 11                  & Morning            \\\\\n",
       "\t 2018-11-05 15:21:45 & 2018-11-06 06:00:00 & Hub West            & 261                 & SAINT-NAZAIRE       & NZF                 & N                   & G02                 & 4A2M                & NA                  & ...                 & 1\\_G02\\_2743415   & DGG39-N0E1          & DGG39-S0E1          &   3.196944          &  90                 & 90->110             & 20.06806 secs       & lundi               & 11                  & Afternoon          \\\\\n",
       "\t 2018-11-06 11:25:50 & 2018-11-06 06:00:00 & Hub West            & 261                 & SAINT-NAZAIRE       & NZF                 & N                   & G02                 & 4A2M                & NA                  & ...                 & 1\\_G02\\_2743415   & DGG39-N0E1          & DGG39-S0E1          &  20.068056          & 110                 & 110->140            &  0.00000 secs       & mardi               & 11                  & Morning            \\\\\n",
       "\t 2018-11-05 12:10:13 & 2018-11-06 06:00:00 & Hub West            & 261                 & SAINT-NAZAIRE       & NZF                 & N                   & G02                 & 4A2M                & NA                  & ...                 & 1\\_G02\\_2743416   & DGG39-N0E1          & DGG39-S0E1          & 127.843056          &  80                 & 80->85              & 23.26028 secs       & lundi               & 11                  & Morning            \\\\\n",
       "\t 2018-11-05 15:21:45 & 2018-11-06 06:00:00 & Hub West            & 261                 & SAINT-NAZAIRE       & NZF                 & N                   & G02                 & 4A2M                & NA                  & ...                 & 1\\_G02\\_2743416   & DGG39-N0E1          & DGG39-S0E1          &   3.192222          &  90                 & 90->110             & 20.06806 secs       & lundi               & 11                  & Afternoon          \\\\\n",
       "\t 2018-11-06 11:25:50 & 2018-11-06 06:00:00 & Hub West            & 261                 & SAINT-NAZAIRE       & NZF                 & N                   & G02                 & 4A2M                & NA                  & ...                 & 1\\_G02\\_2743416   & DGG39-N0E1          & DGG39-S0E1          &  20.068056          & 110                 & 110->140            &  0.00000 secs       & mardi               & 11                  & Morning            \\\\\n",
       "\t 2018-11-05 12:02:46 & 2018-11-06 06:00:00 & Hub West            & 261                 & SAINT-NAZAIRE       & NZF                 & N                   & G02                 & 4A2M                & NA                  & ...                 & 1\\_G02\\_2743417   & DGG39-N0E1          & DGG39-S0E1          & 127.718611          &  80                 & 80->85              & 23.38444 secs       & lundi               & 11                  & Morning            \\\\\n",
       "\t 2018-11-05 15:21:45 & 2018-11-06 06:00:00 & Hub West            & 261                 & SAINT-NAZAIRE       & NZF                 & N                   & G02                 & 4A2M                & NA                  & ...                 & 1\\_G02\\_2743417   & DGG39-N0E1          & DGG39-S0E1          &   3.316389          &  90                 & 90->110             & 20.06806 secs       & lundi               & 11                  & Afternoon          \\\\\n",
       "\t 2018-11-06 11:25:50 & 2018-11-06 06:00:00 & Hub West            & 261                 & SAINT-NAZAIRE       & NZF                 & N                   & G02                 & 4A2M                & NA                  & ...                 & 1\\_G02\\_2743417   & DGG39-N0E1          & DGG39-S0E1          &  20.068056          & 110                 & 110->140            &  0.00000 secs       & mardi               & 11                  & Morning            \\\\\n",
       "\t 2018-11-05 11:02:23 & 2018-11-06 06:00:00 & Hub West            & 261                 & SAINT-NAZAIRE       & NZF                 & N                   & G02                 & 4A2M                & NA                  & ...                 & 1\\_G02\\_2743418   & DGG39-N0E1          & DGG39-S0E1          & 126.712222          &  80                 & 80->85              & 24.39083 secs       & lundi               & 11                  & Morning            \\\\\n",
       "\t 2018-11-05 15:21:45 & 2018-11-06 06:00:00 & Hub West            & 261                 & SAINT-NAZAIRE       & NZF                 & N                   & G02                 & 4A2M                & NA                  & ...                 & 1\\_G02\\_2743418   & DGG39-N0E1          & DGG39-S0E1          &   4.322778          &  90                 & 90->110             & 20.06806 secs       & lundi               & 11                  & Afternoon          \\\\\n",
       "\t 2018-11-06 11:25:50 & 2018-11-06 06:00:00 & Hub West            & 261                 & SAINT-NAZAIRE       & NZF                 & N                   & G02                 & 4A2M                & NA                  & ...                 & 1\\_G02\\_2743418   & DGG39-N0E1          & DGG39-S0E1          &  20.068056          & 110                 & 110->140            &  0.00000 secs       & mardi               & 11                  & Morning            \\\\\n",
       "\t 2018-11-05 11:02:54 & 2018-11-06 06:00:00 & Hub West            & 261                 & SAINT-NAZAIRE       & NZF                 & N                   & G02                 & 4A2M                & NA                  & ...                 & 1\\_G02\\_2743419   & DGG39-N0E1          & DGG39-S0E1          & 126.720556          &  80                 & 80->85              & 24.38222 secs       & lundi               & 11                  & Morning            \\\\\n",
       "\t 2018-11-05 15:21:45 & 2018-11-06 06:00:00 & Hub West            & 261                 & SAINT-NAZAIRE       & NZF                 & N                   & G02                 & 4A2M                & NA                  & ...                 & 1\\_G02\\_2743419   & DGG39-N0E1          & DGG39-S0E1          &   4.314167          &  90                 & 90->110             & 20.06806 secs       & lundi               & 11                  & Afternoon          \\\\\n",
       "\t 2018-11-06 11:25:50 & 2018-11-06 06:00:00 & Hub West            & 261                 & SAINT-NAZAIRE       & NZF                 & N                   & G02                 & 4A2M                & NA                  & ...                 & 1\\_G02\\_2743419   & DGG39-N0E1          & DGG39-S0E1          &  20.068056          & 110                 & 110->140            &  0.00000 secs       & mardi               & 11                  & Morning            \\\\\n",
       "\t 2018-11-05 11:10:21 & 2018-11-06 06:00:00 & Hub West            & 261                 & SAINT-NAZAIRE       & NZF                 & N                   & G02                 & 4A2M                & NA                  & ...                 & 1\\_G02\\_2743420   & DGG39-N0E1          & DGG39-S0E1          & 126.844722          &  80                 & 80->85              & 24.25806 secs       & lundi               & 11                  & Morning            \\\\\n",
       "\t 2018-11-05 15:21:45 & 2018-11-06 06:00:00 & Hub West            & 261                 & SAINT-NAZAIRE       & NZF                 & N                   & G02                 & 4A2M                & NA                  & ...                 & 1\\_G02\\_2743420   & DGG39-N0E1          & DGG39-S0E1          &   4.190000          &  90                 & 90->110             & 20.06806 secs       & lundi               & 11                  & Afternoon          \\\\\n",
       "\t 2018-11-06 11:25:50 & 2018-11-06 06:00:00 & Hub West            & 261                 & SAINT-NAZAIRE       & NZF                 & N                   & G02                 & 4A2M                & NA                  & ...                 & 1\\_G02\\_2743420   & DGG39-N0E1          & DGG39-S0E1          &  20.068056          & 110                 & 110->140            &  0.00000 secs       & mardi               & 11                  & Morning            \\\\\n",
       "\t 2018-11-05 11:09:44 & 2018-11-06 06:00:00 & Hub West            & 261                 & SAINT-NAZAIRE       & NZF                 & N                   & G02                 & 4A2M                & NA                  & ...                 & 1\\_G02\\_2743421   & DGG39-N0E1          & DGG39-S0E1          & 126.834167          &  80                 & 80->85              & 24.26833 secs       & lundi               & 11                  & Morning            \\\\\n",
       "\t 2018-11-05 15:21:45 & 2018-11-06 06:00:00 & Hub West            & 261                 & SAINT-NAZAIRE       & NZF                 & N                   & G02                 & 4A2M                & NA                  & ...                 & 1\\_G02\\_2743421   & DGG39-N0E1          & DGG39-S0E1          &   4.200278          &  90                 & 90->110             & 20.06806 secs       & lundi               & 11                  & Afternoon          \\\\\n",
       "\t 2018-11-06 11:25:50 & 2018-11-06 06:00:00 & Hub West            & 261                 & SAINT-NAZAIRE       & NZF                 & N                   & G02                 & 4A2M                & NA                  & ...                 & 1\\_G02\\_2743421   & DGG39-N0E1          & DGG39-S0E1          &  20.068056          & 110                 & 110->140            &  0.00000 secs       & mardi               & 11                  & Morning            \\\\\n",
       "\t 2018-11-05 11:46:37 & 2018-11-06 06:00:00 & Hub West            & 261                 & SAINT-NAZAIRE       & NZF                 & N                   & G02                 & 4A2M                & NA                  & ...                 & 1\\_G02\\_2743422   & DGG39-N0E1          & DGG39-S0E1          & 127.448889          &  80                 & 80->85              & 23.65361 secs       & lundi               & 11                  & Morning            \\\\\n",
       "\t 2018-11-05 15:21:45 & 2018-11-06 06:00:00 & Hub West            & 261                 & SAINT-NAZAIRE       & NZF                 & N                   & G02                 & 4A2M                & NA                  & ...                 & 1\\_G02\\_2743422   & DGG39-N0E1          & DGG39-S0E1          &   3.585556          &  90                 & 90->110             & 20.06806 secs       & lundi               & 11                  & Afternoon          \\\\\n",
       "\t 2018-11-06 11:25:50 & 2018-11-06 06:00:00 & Hub West            & 261                 & SAINT-NAZAIRE       & NZF                 & N                   & G02                 & 4A2M                & NA                  & ...                 & 1\\_G02\\_2743422   & DGG39-N0E1          & DGG39-S0E1          &  20.068056          & 110                 & 110->140            &  0.00000 secs       & mardi               & 11                  & Morning            \\\\\n",
       "\t ... & ... & ... & ... & ... & ... & ... & ... & ... & ... &     & ... & ... & ... & ... & ... & ... & ... & ... & ... & ...\\\\\n",
       "\t 2018-09-25 09:47:59 & 2018-09-20 05:18:00 & Hub West            & 261                 & SAINT-NAZAIRE       & NZF                 & N                   & Z21                 & Z21M                & NA                  & ...                 & 1\\_Z21\\_3226732   & DGG23-Z0Z1          & DGG23-Z0Z4          &  24.77250000        & 105                 & 105->110            &  20.54611 secs      & mardi               & 09                  & Morning            \\\\\n",
       "\t 2018-09-26 06:20:45 & 2018-09-20 05:18:00 & Hub West            & 261                 & SAINT-NAZAIRE       & NZF                 & N                   & Z21                 & Z21M                & NA                  & ...                 & 1\\_Z21\\_3226732   & DGG23-Z0Z1          & DGG23-Z0Z4          &  20.54611111        & 110                 & 110->150            &   0.00000 secs      & mercredi            & 09                  & Night              \\\\\n",
       "\t 2018-09-18 17:34:55 & 2018-09-20 05:18:00 & Hub West            & 261                 & SAINT-NAZAIRE       & NZF                 & N                   & Z21                 & Z21M                & NA                  & ...                 & 1\\_Z21\\_3226733   & DGG23-Z0Z1          & DGG23-Z0Z4          & 108.84555556        &  80                 & 80->85              & 180.76389 secs      & mardi               & 09                  & Afternoon          \\\\\n",
       "\t 2018-09-24 09:01:38 & 2018-09-20 05:18:00 & Hub West            & 261                 & SAINT-NAZAIRE       & NZF                 & N                   & Z21                 & Z21M                & NA                  & ...                 & 1\\_Z21\\_3226733   & DGG23-Z0Z1          & DGG23-Z0Z4          & 135.44527778        &  90                 & 90->105             &  45.31861 secs      & lundi               & 09                  & Morning            \\\\\n",
       "\t 2018-09-25 09:47:59 & 2018-09-20 05:18:00 & Hub West            & 261                 & SAINT-NAZAIRE       & NZF                 & N                   & Z21                 & Z21M                & NA                  & ...                 & 1\\_Z21\\_3226733   & DGG23-Z0Z1          & DGG23-Z0Z4          &  24.77250000        & 105                 & 105->110            &  20.54611 secs      & mardi               & 09                  & Morning            \\\\\n",
       "\t 2018-09-26 06:20:45 & 2018-09-20 05:18:00 & Hub West            & 261                 & SAINT-NAZAIRE       & NZF                 & N                   & Z21                 & Z21M                & NA                  & ...                 & 1\\_Z21\\_3226733   & DGG23-Z0Z1          & DGG23-Z0Z4          &  20.54611111        & 110                 & 110->150            &   0.00000 secs      & mercredi            & 09                  & Night              \\\\\n",
       "\t 2018-09-18 17:34:55 & 2018-09-20 05:18:00 & Hub West            & 261                 & SAINT-NAZAIRE       & NZF                 & N                   & Z21                 & Z21M                & NA                  & ...                 & 1\\_Z21\\_3226734   & DGG23-Z0Z1          & DGG23-Z0Z4          & 108.84555556        &  80                 & 80->85              & 180.76389 secs      & mardi               & 09                  & Afternoon          \\\\\n",
       "\t 2018-09-24 09:01:38 & 2018-09-20 05:18:00 & Hub West            & 261                 & SAINT-NAZAIRE       & NZF                 & N                   & Z21                 & Z21M                & NA                  & ...                 & 1\\_Z21\\_3226734   & DGG23-Z0Z1          & DGG23-Z0Z4          & 135.44527778        &  90                 & 90->105             &  45.31861 secs      & lundi               & 09                  & Morning            \\\\\n",
       "\t 2018-09-25 09:47:59 & 2018-09-20 05:18:00 & Hub West            & 261                 & SAINT-NAZAIRE       & NZF                 & N                   & Z21                 & Z21M                & NA                  & ...                 & 1\\_Z21\\_3226734   & DGG23-Z0Z1          & DGG23-Z0Z4          &  24.77250000        & 105                 & 105->110            &  20.54611 secs      & mardi               & 09                  & Morning            \\\\\n",
       "\t 2018-09-26 06:20:45 & 2018-09-20 05:18:00 & Hub West            & 261                 & SAINT-NAZAIRE       & NZF                 & N                   & Z21                 & Z21M                & NA                  & ...                 & 1\\_Z21\\_3226734   & DGG23-Z0Z1          & DGG23-Z0Z4          &  20.54611111        & 110                 & 110->150            &   0.00000 secs      & mercredi            & 09                  & Night              \\\\\n",
       "\t 2018-09-20 08:24:28 & 2018-09-21 15:00:00 & Hub West            & 261                 & SAINT-NAZAIRE       & NZF                 & N                   & Z21                 & Z21M                & NA                  & ...                 & 1\\_Z21\\_3228442   & DGG23-Z0Z1          & DGG23-Z0Z6          & 123.86500000        &  80                 & 80->85              & 197.80139 secs      & jeudi               & 09                  & Morning            \\\\\n",
       "\t 2018-09-21 12:10:42 & 2018-09-21 15:00:00 & Hub West            & 261                 & SAINT-NAZAIRE       & NZF                 & N                   & Z21                 & Z21M                & NA                  & ...                 & 1\\_Z21\\_3228442   & DGG23-Z0Z1          & DGG23-Z0Z6          &  27.77055556        &  90                 & 90->110             & 170.03083 secs      & vendredi            & 09                  & Morning            \\\\\n",
       "\t 2018-09-28 14:12:33 & 2018-09-21 15:00:00 & Hub West            & 261                 & SAINT-NAZAIRE       & NZF                 & N                   & Z21                 & Z21M                & NA                  & ...                 & 1\\_Z21\\_3228442   & DGG23-Z0Z1          & DGG23-Z0Z6          & 170.03083333        & 110                 & 110->150            &   0.00000 secs      & vendredi            & 09                  & Afternoon          \\\\\n",
       "\t 2018-09-20 08:24:32 & 2018-09-21 15:00:00 & Hub West            & 261                 & SAINT-NAZAIRE       & NZF                 & N                   & Z21                 & Z21M                & NA                  & ...                 & 1\\_Z21\\_3228443   & DGG23-Z0Z1          & DGG23-Z0Z6          & 123.86611111        &  80                 & 80->85              & 197.80028 secs      & jeudi               & 09                  & Morning            \\\\\n",
       "\t 2018-09-21 12:10:42 & 2018-09-21 15:00:00 & Hub West            & 261                 & SAINT-NAZAIRE       & NZF                 & N                   & Z21                 & Z21M                & NA                  & ...                 & 1\\_Z21\\_3228443   & DGG23-Z0Z1          & DGG23-Z0Z6          &  27.76944444        &  90                 & 90->110             & 170.03083 secs      & vendredi            & 09                  & Morning            \\\\\n",
       "\t 2018-09-28 14:12:33 & 2018-09-21 15:00:00 & Hub West            & 261                 & SAINT-NAZAIRE       & NZF                 & N                   & Z21                 & Z21M                & NA                  & ...                 & 1\\_Z21\\_3228443   & DGG23-Z0Z1          & DGG23-Z0Z6          & 170.03083333        & 110                 & 110->150            &   0.00000 secs      & vendredi            & 09                  & Afternoon          \\\\\n",
       "\t 2018-11-05 12:47:40 & 2018-11-06 06:00:00 & Hub West            & 261                 & SAINT-NAZAIRE       & NZF                 & N                   & G02                 & 4A2M                & NA                  & ...                 & 2\\_G02\\_2743528   & DGG39-N0E1          & DGG39-S0E1          & 128.45138889        &  80                 & 80->85              &  22.63611 secs      & lundi               & 11                  & Morning            \\\\\n",
       "\t 2018-11-05 15:21:45 & 2018-11-06 06:00:00 & Hub West            & 261                 & SAINT-NAZAIRE       & NZF                 & N                   & G02                 & 4A2M                & NA                  & ...                 & 2\\_G02\\_2743528   & DGG39-N0E1          & DGG39-S0E1          &   2.56805556        &  90                 & 90->110             &  20.06806 secs      & lundi               & 11                  & Afternoon          \\\\\n",
       "\t 2018-11-06 11:25:50 & 2018-11-06 06:00:00 & Hub West            & 261                 & SAINT-NAZAIRE       & NZF                 & N                   & G02                 & 4A2M                & NA                  & ...                 & 2\\_G02\\_2743528   & DGG39-N0E1          & DGG39-S0E1          &  20.06805556        & 110                 & 110->140            &   0.00000 secs      & mardi               & 11                  & Morning            \\\\\n",
       "\t 2018-09-20 09:06:50 & 2018-09-21 15:00:00 & Hub West            & 261                 & SAINT-NAZAIRE       & NZF                 & N                   & Z20                 & Z48M                & NA                  & ...                 & 2\\_Z20\\_5028944   & DGG23-Z0Z1          & DGG23-Z0Z6          & 148.62083333        &  80                 & 80->85              & 197.09528 secs      & jeudi               & 09                  & Morning            \\\\\n",
       "\t 2018-09-21 12:10:42 & 2018-09-21 15:00:00 & Hub West            & 261                 & SAINT-NAZAIRE       & NZF                 & N                   & Z20                 & Z48M                & NA                  & ...                 & 2\\_Z20\\_5028944   & DGG23-Z0Z1          & DGG23-Z0Z6          &  27.06444444        &  90                 & 90->110             & 170.03083 secs      & vendredi            & 09                  & Morning            \\\\\n",
       "\t 2018-09-28 14:12:33 & 2018-09-21 15:00:00 & Hub West            & 261                 & SAINT-NAZAIRE       & NZF                 & N                   & Z20                 & Z48M                & NA                  & ...                 & 2\\_Z20\\_5028944   & DGG23-Z0Z1          & DGG23-Z0Z6          & 170.03083333        & 110                 & 110->150            &   0.00000 secs      & vendredi            & 09                  & Afternoon          \\\\\n",
       "\t 2018-10-08 11:39:45 & 2018-10-10 23:59:00 & Hub West            & 911                 & SAINT-NAZAIRE       & NA                  & NA                  & Z20                 & Z48M                & NA                  & ...                 & 2\\_Z20\\_5115778   &                     & GHUBQARRIV          &  71.16611111        &  80                 & 80->85              & -96.04500 secs      & lundi               & 10                  & Morning            \\\\\n",
       "\t 2018-10-08 11:42:16 & 2018-10-10 23:59:00 & Hub West            & 911                 & SAINT-NAZAIRE       & NA                  & NA                  & Z20                 & Z48M                & NA                  & ...                 & 2\\_Z20\\_5115778   &                     & GHUBQARRIV          &   0.04194444        &  90                 & 90->105             & -96.08694 secs      & lundi               & 10                  & Morning            \\\\\n",
       "\t 2018-10-08 11:38:43 & 2018-10-10 23:59:00 & Hub West            & 911                 & SAINT-NAZAIRE       & NA                  & NA                  & Z20                 & Z48M                & NA                  & ...                 & 2\\_Z20\\_5115797   &                     & DGC09-3REA          &  71.14722222        &  80                 & 80->85              & -96.02778 secs      & lundi               & 10                  & Morning            \\\\\n",
       "\t 2018-10-08 11:42:16 & 2018-10-10 23:59:00 & Hub West            & 911                 & SAINT-NAZAIRE       & NA                  & NA                  & Z20                 & Z48M                & NA                  & ...                 & 2\\_Z20\\_5115797   &                     & DGC09-3REA          &   0.05916667        &  90                 & 90->105             & -96.08694 secs      & lundi               & 10                  & Morning            \\\\\n",
       "\t 2018-10-08 11:40:16 & 2018-10-10 23:59:00 & Hub West            & 911                 & SAINT-NAZAIRE       & NA                  & NA                  & Z20                 & Z48M                & NA                  & ...                 & 2\\_Z20\\_5115824   &                     & GHUBQARRIV          &  71.17194444        &  80                 & 80->85              & -96.05361 secs      & lundi               & 10                  & Morning            \\\\\n",
       "\t 2018-10-08 11:42:16 & 2018-10-10 23:59:00 & Hub West            & 911                 & SAINT-NAZAIRE       & NA                  & NA                  & Z20                 & Z48M                & NA                  & ...                 & 2\\_Z20\\_5115824   &                     & GHUBQARRIV          &   0.03333333        &  90                 & 90->105             & -96.08694 secs      & lundi               & 10                  & Morning            \\\\\n",
       "\t 2018-10-08 11:40:31 & 2018-10-10 23:59:00 & Hub West            & 911                 & SAINT-NAZAIRE       & NA                  & NA                  & Z20                 & Z48M                & NA                  & ...                 & 2\\_Z20\\_5115874   &                     & DGC09-3REA          &  71.17444444        &  80                 & 80->85              & -96.05778 secs      & lundi               & 10                  & Morning            \\\\\n",
       "\t 2018-10-08 11:42:16 & 2018-10-10 23:59:00 & Hub West            & 911                 & SAINT-NAZAIRE       & NA                  & NA                  & Z20                 & Z48M                & NA                  & ...                 & 2\\_Z20\\_5115874   &                     & DGC09-3REA          &   0.02916667        &  90                 & 90->105             & -96.08694 secs      & lundi               & 10                  & Morning            \\\\\n",
       "\\end{tabular}\n"
      ],
      "text/markdown": [
       "\n",
       "STATUS_DATE_TIME | ACT_NEED_DATE_TIME | BATI_LIVN | BWLVS | CITY1 | CONSUMING_PLANT | FLOW_DESC | LGNUM | LGORT | MARKET_PLACE | ... | ID | POU_PLAN | POD_PLAN | diff | MP_CODE_BEFORE | TRAJECT | DURATION_TO_140_150 | DAY | MONTH | AMPM | \n",
       "|---|---|---|---|---|---|---|---|---|---|---|---|---|---|---|---|---|---|---|---|---|---|---|---|---|---|---|---|---|---|---|---|---|---|---|---|---|---|---|---|---|---|---|---|---|---|---|---|---|---|---|---|---|---|---|---|---|---|---|---|---|\n",
       "| 2018-11-05 12:08:53 | 2018-11-06 06:00:00 | Hub West            | 261                 | SAINT-NAZAIRE       | NZF                 | N                   | G02                 | 4A2M                | NA                  | ...                 | 1_G02_2743413       | DGG39-N0E1          | DGG39-S0E1          | 127.821111          |  80                 | 80->85              | 23.28250 secs       | lundi               | 11                  | Morning             | \n",
       "| 2018-11-05 15:21:45 | 2018-11-06 06:00:00 | Hub West            | 261                 | SAINT-NAZAIRE       | NZF                 | N                   | G02                 | 4A2M                | NA                  | ...                 | 1_G02_2743413       | DGG39-N0E1          | DGG39-S0E1          |   3.214444          |  90                 | 90->110             | 20.06806 secs       | lundi               | 11                  | Afternoon           | \n",
       "| 2018-11-06 11:25:50 | 2018-11-06 06:00:00 | Hub West            | 261                 | SAINT-NAZAIRE       | NZF                 | N                   | G02                 | 4A2M                | NA                  | ...                 | 1_G02_2743413       | DGG39-N0E1          | DGG39-S0E1          |  20.068056          | 110                 | 110->140            |  0.00000 secs       | mardi               | 11                  | Morning             | \n",
       "| 2018-11-05 11:09:05 | 2018-11-06 06:00:00 | Hub West            | 261                 | SAINT-NAZAIRE       | NZF                 | N                   | G02                 | 4A2M                | NA                  | ...                 | 1_G02_2743414       | DGG39-N0E1          | DGG39-S0E1          | 126.824167          |  80                 | 80->85              | 24.27917 secs       | lundi               | 11                  | Morning             | \n",
       "| 2018-11-05 15:21:45 | 2018-11-06 06:00:00 | Hub West            | 261                 | SAINT-NAZAIRE       | NZF                 | N                   | G02                 | 4A2M                | NA                  | ...                 | 1_G02_2743414       | DGG39-N0E1          | DGG39-S0E1          |   4.211111          |  90                 | 90->110             | 20.06806 secs       | lundi               | 11                  | Afternoon           | \n",
       "| 2018-11-06 11:25:50 | 2018-11-06 06:00:00 | Hub West            | 261                 | SAINT-NAZAIRE       | NZF                 | N                   | G02                 | 4A2M                | NA                  | ...                 | 1_G02_2743414       | DGG39-N0E1          | DGG39-S0E1          |  20.068056          | 110                 | 110->140            |  0.00000 secs       | mardi               | 11                  | Morning             | \n",
       "| 2018-11-05 12:09:56 | 2018-11-06 06:00:00 | Hub West            | 261                 | SAINT-NAZAIRE       | NZF                 | N                   | G02                 | 4A2M                | NA                  | ...                 | 1_G02_2743415       | DGG39-N0E1          | DGG39-S0E1          | 127.838333          |  80                 | 80->85              | 23.26500 secs       | lundi               | 11                  | Morning             | \n",
       "| 2018-11-05 15:21:45 | 2018-11-06 06:00:00 | Hub West            | 261                 | SAINT-NAZAIRE       | NZF                 | N                   | G02                 | 4A2M                | NA                  | ...                 | 1_G02_2743415       | DGG39-N0E1          | DGG39-S0E1          |   3.196944          |  90                 | 90->110             | 20.06806 secs       | lundi               | 11                  | Afternoon           | \n",
       "| 2018-11-06 11:25:50 | 2018-11-06 06:00:00 | Hub West            | 261                 | SAINT-NAZAIRE       | NZF                 | N                   | G02                 | 4A2M                | NA                  | ...                 | 1_G02_2743415       | DGG39-N0E1          | DGG39-S0E1          |  20.068056          | 110                 | 110->140            |  0.00000 secs       | mardi               | 11                  | Morning             | \n",
       "| 2018-11-05 12:10:13 | 2018-11-06 06:00:00 | Hub West            | 261                 | SAINT-NAZAIRE       | NZF                 | N                   | G02                 | 4A2M                | NA                  | ...                 | 1_G02_2743416       | DGG39-N0E1          | DGG39-S0E1          | 127.843056          |  80                 | 80->85              | 23.26028 secs       | lundi               | 11                  | Morning             | \n",
       "| 2018-11-05 15:21:45 | 2018-11-06 06:00:00 | Hub West            | 261                 | SAINT-NAZAIRE       | NZF                 | N                   | G02                 | 4A2M                | NA                  | ...                 | 1_G02_2743416       | DGG39-N0E1          | DGG39-S0E1          |   3.192222          |  90                 | 90->110             | 20.06806 secs       | lundi               | 11                  | Afternoon           | \n",
       "| 2018-11-06 11:25:50 | 2018-11-06 06:00:00 | Hub West            | 261                 | SAINT-NAZAIRE       | NZF                 | N                   | G02                 | 4A2M                | NA                  | ...                 | 1_G02_2743416       | DGG39-N0E1          | DGG39-S0E1          |  20.068056          | 110                 | 110->140            |  0.00000 secs       | mardi               | 11                  | Morning             | \n",
       "| 2018-11-05 12:02:46 | 2018-11-06 06:00:00 | Hub West            | 261                 | SAINT-NAZAIRE       | NZF                 | N                   | G02                 | 4A2M                | NA                  | ...                 | 1_G02_2743417       | DGG39-N0E1          | DGG39-S0E1          | 127.718611          |  80                 | 80->85              | 23.38444 secs       | lundi               | 11                  | Morning             | \n",
       "| 2018-11-05 15:21:45 | 2018-11-06 06:00:00 | Hub West            | 261                 | SAINT-NAZAIRE       | NZF                 | N                   | G02                 | 4A2M                | NA                  | ...                 | 1_G02_2743417       | DGG39-N0E1          | DGG39-S0E1          |   3.316389          |  90                 | 90->110             | 20.06806 secs       | lundi               | 11                  | Afternoon           | \n",
       "| 2018-11-06 11:25:50 | 2018-11-06 06:00:00 | Hub West            | 261                 | SAINT-NAZAIRE       | NZF                 | N                   | G02                 | 4A2M                | NA                  | ...                 | 1_G02_2743417       | DGG39-N0E1          | DGG39-S0E1          |  20.068056          | 110                 | 110->140            |  0.00000 secs       | mardi               | 11                  | Morning             | \n",
       "| 2018-11-05 11:02:23 | 2018-11-06 06:00:00 | Hub West            | 261                 | SAINT-NAZAIRE       | NZF                 | N                   | G02                 | 4A2M                | NA                  | ...                 | 1_G02_2743418       | DGG39-N0E1          | DGG39-S0E1          | 126.712222          |  80                 | 80->85              | 24.39083 secs       | lundi               | 11                  | Morning             | \n",
       "| 2018-11-05 15:21:45 | 2018-11-06 06:00:00 | Hub West            | 261                 | SAINT-NAZAIRE       | NZF                 | N                   | G02                 | 4A2M                | NA                  | ...                 | 1_G02_2743418       | DGG39-N0E1          | DGG39-S0E1          |   4.322778          |  90                 | 90->110             | 20.06806 secs       | lundi               | 11                  | Afternoon           | \n",
       "| 2018-11-06 11:25:50 | 2018-11-06 06:00:00 | Hub West            | 261                 | SAINT-NAZAIRE       | NZF                 | N                   | G02                 | 4A2M                | NA                  | ...                 | 1_G02_2743418       | DGG39-N0E1          | DGG39-S0E1          |  20.068056          | 110                 | 110->140            |  0.00000 secs       | mardi               | 11                  | Morning             | \n",
       "| 2018-11-05 11:02:54 | 2018-11-06 06:00:00 | Hub West            | 261                 | SAINT-NAZAIRE       | NZF                 | N                   | G02                 | 4A2M                | NA                  | ...                 | 1_G02_2743419       | DGG39-N0E1          | DGG39-S0E1          | 126.720556          |  80                 | 80->85              | 24.38222 secs       | lundi               | 11                  | Morning             | \n",
       "| 2018-11-05 15:21:45 | 2018-11-06 06:00:00 | Hub West            | 261                 | SAINT-NAZAIRE       | NZF                 | N                   | G02                 | 4A2M                | NA                  | ...                 | 1_G02_2743419       | DGG39-N0E1          | DGG39-S0E1          |   4.314167          |  90                 | 90->110             | 20.06806 secs       | lundi               | 11                  | Afternoon           | \n",
       "| 2018-11-06 11:25:50 | 2018-11-06 06:00:00 | Hub West            | 261                 | SAINT-NAZAIRE       | NZF                 | N                   | G02                 | 4A2M                | NA                  | ...                 | 1_G02_2743419       | DGG39-N0E1          | DGG39-S0E1          |  20.068056          | 110                 | 110->140            |  0.00000 secs       | mardi               | 11                  | Morning             | \n",
       "| 2018-11-05 11:10:21 | 2018-11-06 06:00:00 | Hub West            | 261                 | SAINT-NAZAIRE       | NZF                 | N                   | G02                 | 4A2M                | NA                  | ...                 | 1_G02_2743420       | DGG39-N0E1          | DGG39-S0E1          | 126.844722          |  80                 | 80->85              | 24.25806 secs       | lundi               | 11                  | Morning             | \n",
       "| 2018-11-05 15:21:45 | 2018-11-06 06:00:00 | Hub West            | 261                 | SAINT-NAZAIRE       | NZF                 | N                   | G02                 | 4A2M                | NA                  | ...                 | 1_G02_2743420       | DGG39-N0E1          | DGG39-S0E1          |   4.190000          |  90                 | 90->110             | 20.06806 secs       | lundi               | 11                  | Afternoon           | \n",
       "| 2018-11-06 11:25:50 | 2018-11-06 06:00:00 | Hub West            | 261                 | SAINT-NAZAIRE       | NZF                 | N                   | G02                 | 4A2M                | NA                  | ...                 | 1_G02_2743420       | DGG39-N0E1          | DGG39-S0E1          |  20.068056          | 110                 | 110->140            |  0.00000 secs       | mardi               | 11                  | Morning             | \n",
       "| 2018-11-05 11:09:44 | 2018-11-06 06:00:00 | Hub West            | 261                 | SAINT-NAZAIRE       | NZF                 | N                   | G02                 | 4A2M                | NA                  | ...                 | 1_G02_2743421       | DGG39-N0E1          | DGG39-S0E1          | 126.834167          |  80                 | 80->85              | 24.26833 secs       | lundi               | 11                  | Morning             | \n",
       "| 2018-11-05 15:21:45 | 2018-11-06 06:00:00 | Hub West            | 261                 | SAINT-NAZAIRE       | NZF                 | N                   | G02                 | 4A2M                | NA                  | ...                 | 1_G02_2743421       | DGG39-N0E1          | DGG39-S0E1          |   4.200278          |  90                 | 90->110             | 20.06806 secs       | lundi               | 11                  | Afternoon           | \n",
       "| 2018-11-06 11:25:50 | 2018-11-06 06:00:00 | Hub West            | 261                 | SAINT-NAZAIRE       | NZF                 | N                   | G02                 | 4A2M                | NA                  | ...                 | 1_G02_2743421       | DGG39-N0E1          | DGG39-S0E1          |  20.068056          | 110                 | 110->140            |  0.00000 secs       | mardi               | 11                  | Morning             | \n",
       "| 2018-11-05 11:46:37 | 2018-11-06 06:00:00 | Hub West            | 261                 | SAINT-NAZAIRE       | NZF                 | N                   | G02                 | 4A2M                | NA                  | ...                 | 1_G02_2743422       | DGG39-N0E1          | DGG39-S0E1          | 127.448889          |  80                 | 80->85              | 23.65361 secs       | lundi               | 11                  | Morning             | \n",
       "| 2018-11-05 15:21:45 | 2018-11-06 06:00:00 | Hub West            | 261                 | SAINT-NAZAIRE       | NZF                 | N                   | G02                 | 4A2M                | NA                  | ...                 | 1_G02_2743422       | DGG39-N0E1          | DGG39-S0E1          |   3.585556          |  90                 | 90->110             | 20.06806 secs       | lundi               | 11                  | Afternoon           | \n",
       "| 2018-11-06 11:25:50 | 2018-11-06 06:00:00 | Hub West            | 261                 | SAINT-NAZAIRE       | NZF                 | N                   | G02                 | 4A2M                | NA                  | ...                 | 1_G02_2743422       | DGG39-N0E1          | DGG39-S0E1          |  20.068056          | 110                 | 110->140            |  0.00000 secs       | mardi               | 11                  | Morning             | \n",
       "| ... | ... | ... | ... | ... | ... | ... | ... | ... | ... |     | ... | ... | ... | ... | ... | ... | ... | ... | ... | ... | \n",
       "| 2018-09-25 09:47:59 | 2018-09-20 05:18:00 | Hub West            | 261                 | SAINT-NAZAIRE       | NZF                 | N                   | Z21                 | Z21M                | NA                  | ...                 | 1_Z21_3226732       | DGG23-Z0Z1          | DGG23-Z0Z4          |  24.77250000        | 105                 | 105->110            |  20.54611 secs      | mardi               | 09                  | Morning             | \n",
       "| 2018-09-26 06:20:45 | 2018-09-20 05:18:00 | Hub West            | 261                 | SAINT-NAZAIRE       | NZF                 | N                   | Z21                 | Z21M                | NA                  | ...                 | 1_Z21_3226732       | DGG23-Z0Z1          | DGG23-Z0Z4          |  20.54611111        | 110                 | 110->150            |   0.00000 secs      | mercredi            | 09                  | Night               | \n",
       "| 2018-09-18 17:34:55 | 2018-09-20 05:18:00 | Hub West            | 261                 | SAINT-NAZAIRE       | NZF                 | N                   | Z21                 | Z21M                | NA                  | ...                 | 1_Z21_3226733       | DGG23-Z0Z1          | DGG23-Z0Z4          | 108.84555556        |  80                 | 80->85              | 180.76389 secs      | mardi               | 09                  | Afternoon           | \n",
       "| 2018-09-24 09:01:38 | 2018-09-20 05:18:00 | Hub West            | 261                 | SAINT-NAZAIRE       | NZF                 | N                   | Z21                 | Z21M                | NA                  | ...                 | 1_Z21_3226733       | DGG23-Z0Z1          | DGG23-Z0Z4          | 135.44527778        |  90                 | 90->105             |  45.31861 secs      | lundi               | 09                  | Morning             | \n",
       "| 2018-09-25 09:47:59 | 2018-09-20 05:18:00 | Hub West            | 261                 | SAINT-NAZAIRE       | NZF                 | N                   | Z21                 | Z21M                | NA                  | ...                 | 1_Z21_3226733       | DGG23-Z0Z1          | DGG23-Z0Z4          |  24.77250000        | 105                 | 105->110            |  20.54611 secs      | mardi               | 09                  | Morning             | \n",
       "| 2018-09-26 06:20:45 | 2018-09-20 05:18:00 | Hub West            | 261                 | SAINT-NAZAIRE       | NZF                 | N                   | Z21                 | Z21M                | NA                  | ...                 | 1_Z21_3226733       | DGG23-Z0Z1          | DGG23-Z0Z4          |  20.54611111        | 110                 | 110->150            |   0.00000 secs      | mercredi            | 09                  | Night               | \n",
       "| 2018-09-18 17:34:55 | 2018-09-20 05:18:00 | Hub West            | 261                 | SAINT-NAZAIRE       | NZF                 | N                   | Z21                 | Z21M                | NA                  | ...                 | 1_Z21_3226734       | DGG23-Z0Z1          | DGG23-Z0Z4          | 108.84555556        |  80                 | 80->85              | 180.76389 secs      | mardi               | 09                  | Afternoon           | \n",
       "| 2018-09-24 09:01:38 | 2018-09-20 05:18:00 | Hub West            | 261                 | SAINT-NAZAIRE       | NZF                 | N                   | Z21                 | Z21M                | NA                  | ...                 | 1_Z21_3226734       | DGG23-Z0Z1          | DGG23-Z0Z4          | 135.44527778        |  90                 | 90->105             |  45.31861 secs      | lundi               | 09                  | Morning             | \n",
       "| 2018-09-25 09:47:59 | 2018-09-20 05:18:00 | Hub West            | 261                 | SAINT-NAZAIRE       | NZF                 | N                   | Z21                 | Z21M                | NA                  | ...                 | 1_Z21_3226734       | DGG23-Z0Z1          | DGG23-Z0Z4          |  24.77250000        | 105                 | 105->110            |  20.54611 secs      | mardi               | 09                  | Morning             | \n",
       "| 2018-09-26 06:20:45 | 2018-09-20 05:18:00 | Hub West            | 261                 | SAINT-NAZAIRE       | NZF                 | N                   | Z21                 | Z21M                | NA                  | ...                 | 1_Z21_3226734       | DGG23-Z0Z1          | DGG23-Z0Z4          |  20.54611111        | 110                 | 110->150            |   0.00000 secs      | mercredi            | 09                  | Night               | \n",
       "| 2018-09-20 08:24:28 | 2018-09-21 15:00:00 | Hub West            | 261                 | SAINT-NAZAIRE       | NZF                 | N                   | Z21                 | Z21M                | NA                  | ...                 | 1_Z21_3228442       | DGG23-Z0Z1          | DGG23-Z0Z6          | 123.86500000        |  80                 | 80->85              | 197.80139 secs      | jeudi               | 09                  | Morning             | \n",
       "| 2018-09-21 12:10:42 | 2018-09-21 15:00:00 | Hub West            | 261                 | SAINT-NAZAIRE       | NZF                 | N                   | Z21                 | Z21M                | NA                  | ...                 | 1_Z21_3228442       | DGG23-Z0Z1          | DGG23-Z0Z6          |  27.77055556        |  90                 | 90->110             | 170.03083 secs      | vendredi            | 09                  | Morning             | \n",
       "| 2018-09-28 14:12:33 | 2018-09-21 15:00:00 | Hub West            | 261                 | SAINT-NAZAIRE       | NZF                 | N                   | Z21                 | Z21M                | NA                  | ...                 | 1_Z21_3228442       | DGG23-Z0Z1          | DGG23-Z0Z6          | 170.03083333        | 110                 | 110->150            |   0.00000 secs      | vendredi            | 09                  | Afternoon           | \n",
       "| 2018-09-20 08:24:32 | 2018-09-21 15:00:00 | Hub West            | 261                 | SAINT-NAZAIRE       | NZF                 | N                   | Z21                 | Z21M                | NA                  | ...                 | 1_Z21_3228443       | DGG23-Z0Z1          | DGG23-Z0Z6          | 123.86611111        |  80                 | 80->85              | 197.80028 secs      | jeudi               | 09                  | Morning             | \n",
       "| 2018-09-21 12:10:42 | 2018-09-21 15:00:00 | Hub West            | 261                 | SAINT-NAZAIRE       | NZF                 | N                   | Z21                 | Z21M                | NA                  | ...                 | 1_Z21_3228443       | DGG23-Z0Z1          | DGG23-Z0Z6          |  27.76944444        |  90                 | 90->110             | 170.03083 secs      | vendredi            | 09                  | Morning             | \n",
       "| 2018-09-28 14:12:33 | 2018-09-21 15:00:00 | Hub West            | 261                 | SAINT-NAZAIRE       | NZF                 | N                   | Z21                 | Z21M                | NA                  | ...                 | 1_Z21_3228443       | DGG23-Z0Z1          | DGG23-Z0Z6          | 170.03083333        | 110                 | 110->150            |   0.00000 secs      | vendredi            | 09                  | Afternoon           | \n",
       "| 2018-11-05 12:47:40 | 2018-11-06 06:00:00 | Hub West            | 261                 | SAINT-NAZAIRE       | NZF                 | N                   | G02                 | 4A2M                | NA                  | ...                 | 2_G02_2743528       | DGG39-N0E1          | DGG39-S0E1          | 128.45138889        |  80                 | 80->85              |  22.63611 secs      | lundi               | 11                  | Morning             | \n",
       "| 2018-11-05 15:21:45 | 2018-11-06 06:00:00 | Hub West            | 261                 | SAINT-NAZAIRE       | NZF                 | N                   | G02                 | 4A2M                | NA                  | ...                 | 2_G02_2743528       | DGG39-N0E1          | DGG39-S0E1          |   2.56805556        |  90                 | 90->110             |  20.06806 secs      | lundi               | 11                  | Afternoon           | \n",
       "| 2018-11-06 11:25:50 | 2018-11-06 06:00:00 | Hub West            | 261                 | SAINT-NAZAIRE       | NZF                 | N                   | G02                 | 4A2M                | NA                  | ...                 | 2_G02_2743528       | DGG39-N0E1          | DGG39-S0E1          |  20.06805556        | 110                 | 110->140            |   0.00000 secs      | mardi               | 11                  | Morning             | \n",
       "| 2018-09-20 09:06:50 | 2018-09-21 15:00:00 | Hub West            | 261                 | SAINT-NAZAIRE       | NZF                 | N                   | Z20                 | Z48M                | NA                  | ...                 | 2_Z20_5028944       | DGG23-Z0Z1          | DGG23-Z0Z6          | 148.62083333        |  80                 | 80->85              | 197.09528 secs      | jeudi               | 09                  | Morning             | \n",
       "| 2018-09-21 12:10:42 | 2018-09-21 15:00:00 | Hub West            | 261                 | SAINT-NAZAIRE       | NZF                 | N                   | Z20                 | Z48M                | NA                  | ...                 | 2_Z20_5028944       | DGG23-Z0Z1          | DGG23-Z0Z6          |  27.06444444        |  90                 | 90->110             | 170.03083 secs      | vendredi            | 09                  | Morning             | \n",
       "| 2018-09-28 14:12:33 | 2018-09-21 15:00:00 | Hub West            | 261                 | SAINT-NAZAIRE       | NZF                 | N                   | Z20                 | Z48M                | NA                  | ...                 | 2_Z20_5028944       | DGG23-Z0Z1          | DGG23-Z0Z6          | 170.03083333        | 110                 | 110->150            |   0.00000 secs      | vendredi            | 09                  | Afternoon           | \n",
       "| 2018-10-08 11:39:45 | 2018-10-10 23:59:00 | Hub West            | 911                 | SAINT-NAZAIRE       | NA                  | NA                  | Z20                 | Z48M                | NA                  | ...                 | 2_Z20_5115778       |                     | GHUBQARRIV          |  71.16611111        |  80                 | 80->85              | -96.04500 secs      | lundi               | 10                  | Morning             | \n",
       "| 2018-10-08 11:42:16 | 2018-10-10 23:59:00 | Hub West            | 911                 | SAINT-NAZAIRE       | NA                  | NA                  | Z20                 | Z48M                | NA                  | ...                 | 2_Z20_5115778       |                     | GHUBQARRIV          |   0.04194444        |  90                 | 90->105             | -96.08694 secs      | lundi               | 10                  | Morning             | \n",
       "| 2018-10-08 11:38:43 | 2018-10-10 23:59:00 | Hub West            | 911                 | SAINT-NAZAIRE       | NA                  | NA                  | Z20                 | Z48M                | NA                  | ...                 | 2_Z20_5115797       |                     | DGC09-3REA          |  71.14722222        |  80                 | 80->85              | -96.02778 secs      | lundi               | 10                  | Morning             | \n",
       "| 2018-10-08 11:42:16 | 2018-10-10 23:59:00 | Hub West            | 911                 | SAINT-NAZAIRE       | NA                  | NA                  | Z20                 | Z48M                | NA                  | ...                 | 2_Z20_5115797       |                     | DGC09-3REA          |   0.05916667        |  90                 | 90->105             | -96.08694 secs      | lundi               | 10                  | Morning             | \n",
       "| 2018-10-08 11:40:16 | 2018-10-10 23:59:00 | Hub West            | 911                 | SAINT-NAZAIRE       | NA                  | NA                  | Z20                 | Z48M                | NA                  | ...                 | 2_Z20_5115824       |                     | GHUBQARRIV          |  71.17194444        |  80                 | 80->85              | -96.05361 secs      | lundi               | 10                  | Morning             | \n",
       "| 2018-10-08 11:42:16 | 2018-10-10 23:59:00 | Hub West            | 911                 | SAINT-NAZAIRE       | NA                  | NA                  | Z20                 | Z48M                | NA                  | ...                 | 2_Z20_5115824       |                     | GHUBQARRIV          |   0.03333333        |  90                 | 90->105             | -96.08694 secs      | lundi               | 10                  | Morning             | \n",
       "| 2018-10-08 11:40:31 | 2018-10-10 23:59:00 | Hub West            | 911                 | SAINT-NAZAIRE       | NA                  | NA                  | Z20                 | Z48M                | NA                  | ...                 | 2_Z20_5115874       |                     | DGC09-3REA          |  71.17444444        |  80                 | 80->85              | -96.05778 secs      | lundi               | 10                  | Morning             | \n",
       "| 2018-10-08 11:42:16 | 2018-10-10 23:59:00 | Hub West            | 911                 | SAINT-NAZAIRE       | NA                  | NA                  | Z20                 | Z48M                | NA                  | ...                 | 2_Z20_5115874       |                     | DGC09-3REA          |   0.02916667        |  90                 | 90->105             | -96.08694 secs      | lundi               | 10                  | Morning             | \n",
       "\n",
       "\n"
      ],
      "text/plain": [
       "     STATUS_DATE_TIME    ACT_NEED_DATE_TIME  BATI_LIVN BWLVS CITY1        \n",
       "1    2018-11-05 12:08:53 2018-11-06 06:00:00 Hub West  261   SAINT-NAZAIRE\n",
       "2    2018-11-05 15:21:45 2018-11-06 06:00:00 Hub West  261   SAINT-NAZAIRE\n",
       "3    2018-11-06 11:25:50 2018-11-06 06:00:00 Hub West  261   SAINT-NAZAIRE\n",
       "4    2018-11-05 11:09:05 2018-11-06 06:00:00 Hub West  261   SAINT-NAZAIRE\n",
       "5    2018-11-05 15:21:45 2018-11-06 06:00:00 Hub West  261   SAINT-NAZAIRE\n",
       "6    2018-11-06 11:25:50 2018-11-06 06:00:00 Hub West  261   SAINT-NAZAIRE\n",
       "7    2018-11-05 12:09:56 2018-11-06 06:00:00 Hub West  261   SAINT-NAZAIRE\n",
       "8    2018-11-05 15:21:45 2018-11-06 06:00:00 Hub West  261   SAINT-NAZAIRE\n",
       "9    2018-11-06 11:25:50 2018-11-06 06:00:00 Hub West  261   SAINT-NAZAIRE\n",
       "10   2018-11-05 12:10:13 2018-11-06 06:00:00 Hub West  261   SAINT-NAZAIRE\n",
       "11   2018-11-05 15:21:45 2018-11-06 06:00:00 Hub West  261   SAINT-NAZAIRE\n",
       "12   2018-11-06 11:25:50 2018-11-06 06:00:00 Hub West  261   SAINT-NAZAIRE\n",
       "13   2018-11-05 12:02:46 2018-11-06 06:00:00 Hub West  261   SAINT-NAZAIRE\n",
       "14   2018-11-05 15:21:45 2018-11-06 06:00:00 Hub West  261   SAINT-NAZAIRE\n",
       "15   2018-11-06 11:25:50 2018-11-06 06:00:00 Hub West  261   SAINT-NAZAIRE\n",
       "16   2018-11-05 11:02:23 2018-11-06 06:00:00 Hub West  261   SAINT-NAZAIRE\n",
       "17   2018-11-05 15:21:45 2018-11-06 06:00:00 Hub West  261   SAINT-NAZAIRE\n",
       "18   2018-11-06 11:25:50 2018-11-06 06:00:00 Hub West  261   SAINT-NAZAIRE\n",
       "19   2018-11-05 11:02:54 2018-11-06 06:00:00 Hub West  261   SAINT-NAZAIRE\n",
       "20   2018-11-05 15:21:45 2018-11-06 06:00:00 Hub West  261   SAINT-NAZAIRE\n",
       "21   2018-11-06 11:25:50 2018-11-06 06:00:00 Hub West  261   SAINT-NAZAIRE\n",
       "22   2018-11-05 11:10:21 2018-11-06 06:00:00 Hub West  261   SAINT-NAZAIRE\n",
       "23   2018-11-05 15:21:45 2018-11-06 06:00:00 Hub West  261   SAINT-NAZAIRE\n",
       "24   2018-11-06 11:25:50 2018-11-06 06:00:00 Hub West  261   SAINT-NAZAIRE\n",
       "25   2018-11-05 11:09:44 2018-11-06 06:00:00 Hub West  261   SAINT-NAZAIRE\n",
       "26   2018-11-05 15:21:45 2018-11-06 06:00:00 Hub West  261   SAINT-NAZAIRE\n",
       "27   2018-11-06 11:25:50 2018-11-06 06:00:00 Hub West  261   SAINT-NAZAIRE\n",
       "28   2018-11-05 11:46:37 2018-11-06 06:00:00 Hub West  261   SAINT-NAZAIRE\n",
       "29   2018-11-05 15:21:45 2018-11-06 06:00:00 Hub West  261   SAINT-NAZAIRE\n",
       "30   2018-11-06 11:25:50 2018-11-06 06:00:00 Hub West  261   SAINT-NAZAIRE\n",
       "...  ...                 ...                 ...       ...   ...          \n",
       "4079 2018-09-25 09:47:59 2018-09-20 05:18:00 Hub West  261   SAINT-NAZAIRE\n",
       "4080 2018-09-26 06:20:45 2018-09-20 05:18:00 Hub West  261   SAINT-NAZAIRE\n",
       "4081 2018-09-18 17:34:55 2018-09-20 05:18:00 Hub West  261   SAINT-NAZAIRE\n",
       "4082 2018-09-24 09:01:38 2018-09-20 05:18:00 Hub West  261   SAINT-NAZAIRE\n",
       "4083 2018-09-25 09:47:59 2018-09-20 05:18:00 Hub West  261   SAINT-NAZAIRE\n",
       "4084 2018-09-26 06:20:45 2018-09-20 05:18:00 Hub West  261   SAINT-NAZAIRE\n",
       "4085 2018-09-18 17:34:55 2018-09-20 05:18:00 Hub West  261   SAINT-NAZAIRE\n",
       "4086 2018-09-24 09:01:38 2018-09-20 05:18:00 Hub West  261   SAINT-NAZAIRE\n",
       "4087 2018-09-25 09:47:59 2018-09-20 05:18:00 Hub West  261   SAINT-NAZAIRE\n",
       "4088 2018-09-26 06:20:45 2018-09-20 05:18:00 Hub West  261   SAINT-NAZAIRE\n",
       "4089 2018-09-20 08:24:28 2018-09-21 15:00:00 Hub West  261   SAINT-NAZAIRE\n",
       "4090 2018-09-21 12:10:42 2018-09-21 15:00:00 Hub West  261   SAINT-NAZAIRE\n",
       "4091 2018-09-28 14:12:33 2018-09-21 15:00:00 Hub West  261   SAINT-NAZAIRE\n",
       "4092 2018-09-20 08:24:32 2018-09-21 15:00:00 Hub West  261   SAINT-NAZAIRE\n",
       "4093 2018-09-21 12:10:42 2018-09-21 15:00:00 Hub West  261   SAINT-NAZAIRE\n",
       "4094 2018-09-28 14:12:33 2018-09-21 15:00:00 Hub West  261   SAINT-NAZAIRE\n",
       "4095 2018-11-05 12:47:40 2018-11-06 06:00:00 Hub West  261   SAINT-NAZAIRE\n",
       "4096 2018-11-05 15:21:45 2018-11-06 06:00:00 Hub West  261   SAINT-NAZAIRE\n",
       "4097 2018-11-06 11:25:50 2018-11-06 06:00:00 Hub West  261   SAINT-NAZAIRE\n",
       "4098 2018-09-20 09:06:50 2018-09-21 15:00:00 Hub West  261   SAINT-NAZAIRE\n",
       "4099 2018-09-21 12:10:42 2018-09-21 15:00:00 Hub West  261   SAINT-NAZAIRE\n",
       "4100 2018-09-28 14:12:33 2018-09-21 15:00:00 Hub West  261   SAINT-NAZAIRE\n",
       "4101 2018-10-08 11:39:45 2018-10-10 23:59:00 Hub West  911   SAINT-NAZAIRE\n",
       "4102 2018-10-08 11:42:16 2018-10-10 23:59:00 Hub West  911   SAINT-NAZAIRE\n",
       "4103 2018-10-08 11:38:43 2018-10-10 23:59:00 Hub West  911   SAINT-NAZAIRE\n",
       "4104 2018-10-08 11:42:16 2018-10-10 23:59:00 Hub West  911   SAINT-NAZAIRE\n",
       "4105 2018-10-08 11:40:16 2018-10-10 23:59:00 Hub West  911   SAINT-NAZAIRE\n",
       "4106 2018-10-08 11:42:16 2018-10-10 23:59:00 Hub West  911   SAINT-NAZAIRE\n",
       "4107 2018-10-08 11:40:31 2018-10-10 23:59:00 Hub West  911   SAINT-NAZAIRE\n",
       "4108 2018-10-08 11:42:16 2018-10-10 23:59:00 Hub West  911   SAINT-NAZAIRE\n",
       "     CONSUMING_PLANT FLOW_DESC LGNUM LGORT MARKET_PLACE ... ID           \n",
       "1    NZF             N         G02   4A2M  NA           ... 1_G02_2743413\n",
       "2    NZF             N         G02   4A2M  NA           ... 1_G02_2743413\n",
       "3    NZF             N         G02   4A2M  NA           ... 1_G02_2743413\n",
       "4    NZF             N         G02   4A2M  NA           ... 1_G02_2743414\n",
       "5    NZF             N         G02   4A2M  NA           ... 1_G02_2743414\n",
       "6    NZF             N         G02   4A2M  NA           ... 1_G02_2743414\n",
       "7    NZF             N         G02   4A2M  NA           ... 1_G02_2743415\n",
       "8    NZF             N         G02   4A2M  NA           ... 1_G02_2743415\n",
       "9    NZF             N         G02   4A2M  NA           ... 1_G02_2743415\n",
       "10   NZF             N         G02   4A2M  NA           ... 1_G02_2743416\n",
       "11   NZF             N         G02   4A2M  NA           ... 1_G02_2743416\n",
       "12   NZF             N         G02   4A2M  NA           ... 1_G02_2743416\n",
       "13   NZF             N         G02   4A2M  NA           ... 1_G02_2743417\n",
       "14   NZF             N         G02   4A2M  NA           ... 1_G02_2743417\n",
       "15   NZF             N         G02   4A2M  NA           ... 1_G02_2743417\n",
       "16   NZF             N         G02   4A2M  NA           ... 1_G02_2743418\n",
       "17   NZF             N         G02   4A2M  NA           ... 1_G02_2743418\n",
       "18   NZF             N         G02   4A2M  NA           ... 1_G02_2743418\n",
       "19   NZF             N         G02   4A2M  NA           ... 1_G02_2743419\n",
       "20   NZF             N         G02   4A2M  NA           ... 1_G02_2743419\n",
       "21   NZF             N         G02   4A2M  NA           ... 1_G02_2743419\n",
       "22   NZF             N         G02   4A2M  NA           ... 1_G02_2743420\n",
       "23   NZF             N         G02   4A2M  NA           ... 1_G02_2743420\n",
       "24   NZF             N         G02   4A2M  NA           ... 1_G02_2743420\n",
       "25   NZF             N         G02   4A2M  NA           ... 1_G02_2743421\n",
       "26   NZF             N         G02   4A2M  NA           ... 1_G02_2743421\n",
       "27   NZF             N         G02   4A2M  NA           ... 1_G02_2743421\n",
       "28   NZF             N         G02   4A2M  NA           ... 1_G02_2743422\n",
       "29   NZF             N         G02   4A2M  NA           ... 1_G02_2743422\n",
       "30   NZF             N         G02   4A2M  NA           ... 1_G02_2743422\n",
       "...  ...             ...       ...   ...   ...              ...          \n",
       "4079 NZF             N         Z21   Z21M  NA           ... 1_Z21_3226732\n",
       "4080 NZF             N         Z21   Z21M  NA           ... 1_Z21_3226732\n",
       "4081 NZF             N         Z21   Z21M  NA           ... 1_Z21_3226733\n",
       "4082 NZF             N         Z21   Z21M  NA           ... 1_Z21_3226733\n",
       "4083 NZF             N         Z21   Z21M  NA           ... 1_Z21_3226733\n",
       "4084 NZF             N         Z21   Z21M  NA           ... 1_Z21_3226733\n",
       "4085 NZF             N         Z21   Z21M  NA           ... 1_Z21_3226734\n",
       "4086 NZF             N         Z21   Z21M  NA           ... 1_Z21_3226734\n",
       "4087 NZF             N         Z21   Z21M  NA           ... 1_Z21_3226734\n",
       "4088 NZF             N         Z21   Z21M  NA           ... 1_Z21_3226734\n",
       "4089 NZF             N         Z21   Z21M  NA           ... 1_Z21_3228442\n",
       "4090 NZF             N         Z21   Z21M  NA           ... 1_Z21_3228442\n",
       "4091 NZF             N         Z21   Z21M  NA           ... 1_Z21_3228442\n",
       "4092 NZF             N         Z21   Z21M  NA           ... 1_Z21_3228443\n",
       "4093 NZF             N         Z21   Z21M  NA           ... 1_Z21_3228443\n",
       "4094 NZF             N         Z21   Z21M  NA           ... 1_Z21_3228443\n",
       "4095 NZF             N         G02   4A2M  NA           ... 2_G02_2743528\n",
       "4096 NZF             N         G02   4A2M  NA           ... 2_G02_2743528\n",
       "4097 NZF             N         G02   4A2M  NA           ... 2_G02_2743528\n",
       "4098 NZF             N         Z20   Z48M  NA           ... 2_Z20_5028944\n",
       "4099 NZF             N         Z20   Z48M  NA           ... 2_Z20_5028944\n",
       "4100 NZF             N         Z20   Z48M  NA           ... 2_Z20_5028944\n",
       "4101 NA              NA        Z20   Z48M  NA           ... 2_Z20_5115778\n",
       "4102 NA              NA        Z20   Z48M  NA           ... 2_Z20_5115778\n",
       "4103 NA              NA        Z20   Z48M  NA           ... 2_Z20_5115797\n",
       "4104 NA              NA        Z20   Z48M  NA           ... 2_Z20_5115797\n",
       "4105 NA              NA        Z20   Z48M  NA           ... 2_Z20_5115824\n",
       "4106 NA              NA        Z20   Z48M  NA           ... 2_Z20_5115824\n",
       "4107 NA              NA        Z20   Z48M  NA           ... 2_Z20_5115874\n",
       "4108 NA              NA        Z20   Z48M  NA           ... 2_Z20_5115874\n",
       "     POU_PLAN   POD_PLAN   diff         MP_CODE_BEFORE TRAJECT \n",
       "1    DGG39-N0E1 DGG39-S0E1 127.821111    80            80->85  \n",
       "2    DGG39-N0E1 DGG39-S0E1   3.214444    90            90->110 \n",
       "3    DGG39-N0E1 DGG39-S0E1  20.068056   110            110->140\n",
       "4    DGG39-N0E1 DGG39-S0E1 126.824167    80            80->85  \n",
       "5    DGG39-N0E1 DGG39-S0E1   4.211111    90            90->110 \n",
       "6    DGG39-N0E1 DGG39-S0E1  20.068056   110            110->140\n",
       "7    DGG39-N0E1 DGG39-S0E1 127.838333    80            80->85  \n",
       "8    DGG39-N0E1 DGG39-S0E1   3.196944    90            90->110 \n",
       "9    DGG39-N0E1 DGG39-S0E1  20.068056   110            110->140\n",
       "10   DGG39-N0E1 DGG39-S0E1 127.843056    80            80->85  \n",
       "11   DGG39-N0E1 DGG39-S0E1   3.192222    90            90->110 \n",
       "12   DGG39-N0E1 DGG39-S0E1  20.068056   110            110->140\n",
       "13   DGG39-N0E1 DGG39-S0E1 127.718611    80            80->85  \n",
       "14   DGG39-N0E1 DGG39-S0E1   3.316389    90            90->110 \n",
       "15   DGG39-N0E1 DGG39-S0E1  20.068056   110            110->140\n",
       "16   DGG39-N0E1 DGG39-S0E1 126.712222    80            80->85  \n",
       "17   DGG39-N0E1 DGG39-S0E1   4.322778    90            90->110 \n",
       "18   DGG39-N0E1 DGG39-S0E1  20.068056   110            110->140\n",
       "19   DGG39-N0E1 DGG39-S0E1 126.720556    80            80->85  \n",
       "20   DGG39-N0E1 DGG39-S0E1   4.314167    90            90->110 \n",
       "21   DGG39-N0E1 DGG39-S0E1  20.068056   110            110->140\n",
       "22   DGG39-N0E1 DGG39-S0E1 126.844722    80            80->85  \n",
       "23   DGG39-N0E1 DGG39-S0E1   4.190000    90            90->110 \n",
       "24   DGG39-N0E1 DGG39-S0E1  20.068056   110            110->140\n",
       "25   DGG39-N0E1 DGG39-S0E1 126.834167    80            80->85  \n",
       "26   DGG39-N0E1 DGG39-S0E1   4.200278    90            90->110 \n",
       "27   DGG39-N0E1 DGG39-S0E1  20.068056   110            110->140\n",
       "28   DGG39-N0E1 DGG39-S0E1 127.448889    80            80->85  \n",
       "29   DGG39-N0E1 DGG39-S0E1   3.585556    90            90->110 \n",
       "30   DGG39-N0E1 DGG39-S0E1  20.068056   110            110->140\n",
       "...  ...        ...        ...          ...            ...     \n",
       "4079 DGG23-Z0Z1 DGG23-Z0Z4  24.77250000 105            105->110\n",
       "4080 DGG23-Z0Z1 DGG23-Z0Z4  20.54611111 110            110->150\n",
       "4081 DGG23-Z0Z1 DGG23-Z0Z4 108.84555556  80            80->85  \n",
       "4082 DGG23-Z0Z1 DGG23-Z0Z4 135.44527778  90            90->105 \n",
       "4083 DGG23-Z0Z1 DGG23-Z0Z4  24.77250000 105            105->110\n",
       "4084 DGG23-Z0Z1 DGG23-Z0Z4  20.54611111 110            110->150\n",
       "4085 DGG23-Z0Z1 DGG23-Z0Z4 108.84555556  80            80->85  \n",
       "4086 DGG23-Z0Z1 DGG23-Z0Z4 135.44527778  90            90->105 \n",
       "4087 DGG23-Z0Z1 DGG23-Z0Z4  24.77250000 105            105->110\n",
       "4088 DGG23-Z0Z1 DGG23-Z0Z4  20.54611111 110            110->150\n",
       "4089 DGG23-Z0Z1 DGG23-Z0Z6 123.86500000  80            80->85  \n",
       "4090 DGG23-Z0Z1 DGG23-Z0Z6  27.77055556  90            90->110 \n",
       "4091 DGG23-Z0Z1 DGG23-Z0Z6 170.03083333 110            110->150\n",
       "4092 DGG23-Z0Z1 DGG23-Z0Z6 123.86611111  80            80->85  \n",
       "4093 DGG23-Z0Z1 DGG23-Z0Z6  27.76944444  90            90->110 \n",
       "4094 DGG23-Z0Z1 DGG23-Z0Z6 170.03083333 110            110->150\n",
       "4095 DGG39-N0E1 DGG39-S0E1 128.45138889  80            80->85  \n",
       "4096 DGG39-N0E1 DGG39-S0E1   2.56805556  90            90->110 \n",
       "4097 DGG39-N0E1 DGG39-S0E1  20.06805556 110            110->140\n",
       "4098 DGG23-Z0Z1 DGG23-Z0Z6 148.62083333  80            80->85  \n",
       "4099 DGG23-Z0Z1 DGG23-Z0Z6  27.06444444  90            90->110 \n",
       "4100 DGG23-Z0Z1 DGG23-Z0Z6 170.03083333 110            110->150\n",
       "4101            GHUBQARRIV  71.16611111  80            80->85  \n",
       "4102            GHUBQARRIV   0.04194444  90            90->105 \n",
       "4103            DGC09-3REA  71.14722222  80            80->85  \n",
       "4104            DGC09-3REA   0.05916667  90            90->105 \n",
       "4105            GHUBQARRIV  71.17194444  80            80->85  \n",
       "4106            GHUBQARRIV   0.03333333  90            90->105 \n",
       "4107            DGC09-3REA  71.17444444  80            80->85  \n",
       "4108            DGC09-3REA   0.02916667  90            90->105 \n",
       "     DURATION_TO_140_150 DAY      MONTH AMPM     \n",
       "1    23.28250 secs       lundi    11    Morning  \n",
       "2    20.06806 secs       lundi    11    Afternoon\n",
       "3     0.00000 secs       mardi    11    Morning  \n",
       "4    24.27917 secs       lundi    11    Morning  \n",
       "5    20.06806 secs       lundi    11    Afternoon\n",
       "6     0.00000 secs       mardi    11    Morning  \n",
       "7    23.26500 secs       lundi    11    Morning  \n",
       "8    20.06806 secs       lundi    11    Afternoon\n",
       "9     0.00000 secs       mardi    11    Morning  \n",
       "10   23.26028 secs       lundi    11    Morning  \n",
       "11   20.06806 secs       lundi    11    Afternoon\n",
       "12    0.00000 secs       mardi    11    Morning  \n",
       "13   23.38444 secs       lundi    11    Morning  \n",
       "14   20.06806 secs       lundi    11    Afternoon\n",
       "15    0.00000 secs       mardi    11    Morning  \n",
       "16   24.39083 secs       lundi    11    Morning  \n",
       "17   20.06806 secs       lundi    11    Afternoon\n",
       "18    0.00000 secs       mardi    11    Morning  \n",
       "19   24.38222 secs       lundi    11    Morning  \n",
       "20   20.06806 secs       lundi    11    Afternoon\n",
       "21    0.00000 secs       mardi    11    Morning  \n",
       "22   24.25806 secs       lundi    11    Morning  \n",
       "23   20.06806 secs       lundi    11    Afternoon\n",
       "24    0.00000 secs       mardi    11    Morning  \n",
       "25   24.26833 secs       lundi    11    Morning  \n",
       "26   20.06806 secs       lundi    11    Afternoon\n",
       "27    0.00000 secs       mardi    11    Morning  \n",
       "28   23.65361 secs       lundi    11    Morning  \n",
       "29   20.06806 secs       lundi    11    Afternoon\n",
       "30    0.00000 secs       mardi    11    Morning  \n",
       "...  ...                 ...      ...   ...      \n",
       "4079  20.54611 secs      mardi    09    Morning  \n",
       "4080   0.00000 secs      mercredi 09    Night    \n",
       "4081 180.76389 secs      mardi    09    Afternoon\n",
       "4082  45.31861 secs      lundi    09    Morning  \n",
       "4083  20.54611 secs      mardi    09    Morning  \n",
       "4084   0.00000 secs      mercredi 09    Night    \n",
       "4085 180.76389 secs      mardi    09    Afternoon\n",
       "4086  45.31861 secs      lundi    09    Morning  \n",
       "4087  20.54611 secs      mardi    09    Morning  \n",
       "4088   0.00000 secs      mercredi 09    Night    \n",
       "4089 197.80139 secs      jeudi    09    Morning  \n",
       "4090 170.03083 secs      vendredi 09    Morning  \n",
       "4091   0.00000 secs      vendredi 09    Afternoon\n",
       "4092 197.80028 secs      jeudi    09    Morning  \n",
       "4093 170.03083 secs      vendredi 09    Morning  \n",
       "4094   0.00000 secs      vendredi 09    Afternoon\n",
       "4095  22.63611 secs      lundi    11    Morning  \n",
       "4096  20.06806 secs      lundi    11    Afternoon\n",
       "4097   0.00000 secs      mardi    11    Morning  \n",
       "4098 197.09528 secs      jeudi    09    Morning  \n",
       "4099 170.03083 secs      vendredi 09    Morning  \n",
       "4100   0.00000 secs      vendredi 09    Afternoon\n",
       "4101 -96.04500 secs      lundi    10    Morning  \n",
       "4102 -96.08694 secs      lundi    10    Morning  \n",
       "4103 -96.02778 secs      lundi    10    Morning  \n",
       "4104 -96.08694 secs      lundi    10    Morning  \n",
       "4105 -96.05361 secs      lundi    10    Morning  \n",
       "4106 -96.08694 secs      lundi    10    Morning  \n",
       "4107 -96.05778 secs      lundi    10    Morning  \n",
       "4108 -96.08694 secs      lundi    10    Morning  "
      ]
     },
     "metadata": {},
     "output_type": "display_data"
    }
   ],
   "source": [
    "data_final %>% \n",
    "  group_by(ID) %>% \n",
    "  filter((diff>0))#to correct ||(diff==0) and is.na\n",
    "            "
   ]
  },
  {
   "cell_type": "code",
   "execution_count": 22,
   "metadata": {
    "scrolled": true
   },
   "outputs": [
    {
     "name": "stderr",
     "output_type": "stream",
     "text": [
      "Warning message in if (is.na(x)) {:\n",
      "\"la condition a une longueur > 1 et seul le premier élément est utilisé\"Warning message:\n",
      "\"Removed 1403 rows containing non-finite values (stat_boxplot).\""
     ]
    },
    {
     "data": {},
     "metadata": {},
     "output_type": "display_data"
    },
    {
     "name": "stderr",
     "output_type": "stream",
     "text": [
      "Saving 6.67 x 6.67 in image\n",
      "Warning message:\n",
      "\"Removed 1403 rows containing non-finite values (stat_boxplot).\""
     ]
    },
    {
     "data": {
      "image/png": "[encoded data removed]",
      "text/plain": [
       "plot without title"
      ]
     },
     "metadata": {},
     "output_type": "display_data"
    }
   ],
   "source": [
    "\n",
    "    library(dplyr)\n",
    "    library(ggplot2)\n",
    "    library(tibble)\n",
    "\n",
    "    is_outlier <- function(x) {\n",
    "        if (is.na(x)){return(FALSE)}\n",
    "      else{return(x < quantile(x, 0.25) - 1.5 * IQR(x) | x > quantile(x, 0.75) + 1.5 * IQR(x))}\n",
    "    }\n",
    "\n",
    "    data_final <- data_final %>% tibble::rownames_to_column(var=\"outlier_traject\") %>% group_by(TRAJECT) %>% mutate(is_outlier_traject=ifelse(is_outlier(diff), ID, as.numeric(NA)))\n",
    "    data_final$outlier_traject[which(is.na(data_final$is_outlier_traject))] <- as.numeric(NA)\n",
    "\n",
    "    data_final$TRAJECT<- factor(data_final$TRAJECT, levels=c(\"NA->80\",\"80->85\",\"85->90\",\"85->110\",\"90->105\",\n",
    "    \"90->100\",\"90->110\",\"90->150\",\"100->105\",\"100->110\",\"100->150\",\"105->110\",\"105->140\",\"110->140\",\"110->150\"))\n",
    "    p=ggplot(data_final, aes(x=TRAJECT,y=diff))+\n",
    "        geom_boxplot(aes(group=TRAJECT))+ geom_text(aes(label=outlier_traject),na.rm=TRUE,nudge_y=0.05)\n",
    "    p + ggtitle(\"Plot of tracking duration between tracking points\") +\n",
    "      xlab(\"Tracking points (MP_CODE)\") + ylab(\"Duration (Hours)\")+ theme(axis.text.x = element_text(angle = 90, hjust = 1))\n",
    "    ggsave(\"Boxplot_MP_Tracking_PGI.pdf\")\n",
    "\n",
    " #List of MP_CODE:aggregation into a list\n",
    "\n",
    "#library ('RODBC')"
   ]
  },
  {
   "cell_type": "code",
   "execution_count": 1,
   "metadata": {},
   "outputs": [],
   "source": [
    "    #Plotting duration: not readable,\n",
    "#     library(ggplot2)\n",
    "#     data_final_select=data_final[data_final$ID%in%unique(data_final$ID)[1:100],]\n",
    "#     p=ggplot(data_final_select, aes(MP_CODE, diff,colour=ID)) +\n",
    "#     geom_line(aes(group = MP_CODE)) +geom_point()\n",
    "#     p\n",
    "#     \n",
    "#     print(p)"
   ]
  },
  {
   "cell_type": "code",
   "execution_count": 24,
   "metadata": {},
   "outputs": [],
   "source": [
    "#Aggregation by ID=>creation of list of MP_CODE\n",
    "# plyr\n",
    "library(plyr)\n",
    "aggDataMP_CODE=ddply(data_final, .(ID), summarize, MP_CODE_agg = toString(MP_CODE))"
   ]
  },
  {
   "cell_type": "code",
   "execution_count": 26,
   "metadata": {},
   "outputs": [
    {
     "data": {
      "text/html": [
       "1403"
      ],
      "text/latex": [
       "1403"
      ],
      "text/markdown": [
       "1403"
      ],
      "text/plain": [
       "[1] 1403"
      ]
     },
     "metadata": {},
     "output_type": "display_data"
    }
   ],
   "source": [
    "nrow(aggDataMP_CODE)#=> individus flux"
   ]
  },
  {
   "cell_type": "code",
   "execution_count": 27,
   "metadata": {},
   "outputs": [
    {
     "name": "stderr",
     "output_type": "stream",
     "text": [
      "Don't know how to automatically pick scale for object of type difftime. Defaulting to continuous.\n"
     ]
    },
    {
     "data": {},
     "metadata": {},
     "output_type": "display_data"
    },
    {
     "name": "stderr",
     "output_type": "stream",
     "text": [
      "Saving 6.67 x 6.67 in image\n",
      "Don't know how to automatically pick scale for object of type difftime. Defaulting to continuous.\n"
     ]
    },
    {
     "data": {
      "image/png": "[encoded data removed]",
      "text/plain": [
       "plot without title"
      ]
     },
     "metadata": {},
     "output_type": "display_data"
    }
   ],
   "source": [
    "    # grouped boxplot duration to 140 or 150\n",
    "    p=ggplot(data_final, aes(x=MP_CODE,y=DURATION_TO_140_150))+geom_boxplot(aes(group = MP_CODE))\n",
    "\n",
    "# +  scale_fill_manual(values = c(\"#00AFBB\", \"#E7B800\"))+ scale_color_manual(values = c(\"#00AFBB\", \"#E7B800\"))\n",
    "\n",
    " \n",
    "    p + ggtitle(\"Plot of tracking duration to 140 or 150\") +\n",
    "      xlab(\"Tracking points (MP_CODE)\") + ylab(\"Duration (Hours)\")+ theme(axis.text.x = element_text(angle = 90, hjust = 1))\n",
    "ggsave(\"Boxplot_MP_Tracking_2_PGI.pdf\")\n"
   ]
  },
  {
   "cell_type": "code",
   "execution_count": 28,
   "metadata": {},
   "outputs": [
    {
     "name": "stderr",
     "output_type": "stream",
     "text": [
      "Don't know how to automatically pick scale for object of type difftime. Defaulting to continuous.\n"
     ]
    },
    {
     "data": {},
     "metadata": {},
     "output_type": "display_data"
    },
    {
     "name": "stderr",
     "output_type": "stream",
     "text": [
      "Saving 6.67 x 6.67 in image\n",
      "Don't know how to automatically pick scale for object of type difftime. Defaulting to continuous.\n"
     ]
    },
    {
     "data": {
      "image/png": "[encoded data removed]",
      "text/plain": [
       "plot without title"
      ]
     },
     "metadata": {},
     "output_type": "display_data"
    }
   ],
   "source": [
    "#histogram for each MP_CODE\n",
    "    # grouped boxplot duration to 140 or 150\n",
    "    p=ggplot(data_final, aes(x=DURATION_TO_140_150))+geom_histogram(bins = 30)+facet_wrap(~MP_CODE, scales = 'free_x')\n",
    "\n",
    "# +  scale_fill_manual(values = c(\"#00AFBB\", \"#E7B800\"))+ scale_color_manual(values = c(\"#00AFBB\", \"#E7B800\"))\n",
    "\n",
    " \n",
    "    p + ggtitle(\"Histogram of tracking duration to 140 or 150\") +\n",
    "      xlab(\"Tracking points (MP_CODE)\") + ylab(\"Duration (Hours)\")+ theme(axis.text.x = element_text(angle = 90, hjust = 1))\n",
    "ggsave(\"Histogram_MP_Tracking_PGI.pdf\")"
   ]
  },
  {
   "cell_type": "code",
   "execution_count": 2,
   "metadata": {},
   "outputs": [],
   "source": [
    "#todo check NA values"
   ]
  },
  {
   "cell_type": "code",
   "execution_count": 50,
   "metadata": {},
   "outputs": [
    {
     "ename": "ERROR",
     "evalue": "Error in paste0(\"C:/Users/TO122806/Documents/Projets/FM/Resultats/Plot/plot_missing_data_\", : objet '.png' introuvable\n",
     "output_type": "error",
     "traceback": [
      "Error in paste0(\"C:/Users/TO122806/Documents/Projets/FM/Resultats/Plot/plot_missing_data_\", : objet '.png' introuvable\nTraceback:\n",
      "1. png(filename = paste0(\"C:/Users/TO122806/Documents/Projets/FM/Resultats/Plot/plot_missing_data_\", \n .     system, .png))",
      "2. checkIntFormat(filename)",
      "3. gsub(\"%%\", \"\", s)",
      "4. paste0(\"C:/Users/TO122806/Documents/Projets/FM/Resultats/Plot/plot_missing_data_\", \n .     system, .png)"
     ]
    }
   ],
   "source": [
    "#data exploration\n",
    "library(DataExplorer)\n",
    "library(ggplot2)\n",
    "#system=\"PGI\"\n",
    "png(filename=paste0(\"C:/Users/TO122806/Documents/Projets/FM/Resultats/Plot/plot_missing_data2_\",system,.png))\n",
    "plot_missing(data_final)\n",
    "dev.off()\n",
    "    "
   ]
  },
  {
   "cell_type": "code",
   "execution_count": 8,
   "metadata": {},
   "outputs": [],
   "source": [
    "####EDA plot\n",
    "library(lookdr)\n",
    "num_cat1 <- relate(data_final$DURATION_TO_140_150, ShelveLoc)\n",
    "num_cat1\n",
    "plot(num_cat1)"
   ]
  },
  {
   "cell_type": "code",
   "execution_count": 18,
   "metadata": {},
   "outputs": [],
   "source": [
    "# \"MP_CODE\",\"LGNUM\",\"LGORT\",\"TANUM\",\"TAPOS\",\n",
    "#                                             \"ZDMTRT06_ZSTATION\",\"BWLVS\",\"MARKET_PLACE\",\n",
    "#\"MATNR\",\"FLOW_DESC\",\n",
    "#     \"ZZMSN\",\"ZZTF\",\"BATI_LIVN\",\"CITY1\",\"CONSUMING_PLANT\",\"ACT_NEED_DATE_TIME\",\"PUSH_POD_PLAN\",\"PUSH_POU_PLAN\",\n",
    "#                                             \"PULL_POD_PLAN\",\"PULL_POU_PLAN\",\"PULL_POU_CLUST\",\"PUSH_SLA_DESC\",\n",
    "#     \"PUSH_SLA_HOUR\",\"PULL_SLA_DESC\",\"PULL_SLA_HOUR\",\"STOCK_MISSING_PART\",\"STATUS_DATE_TIME\""
   ]
  },
  {
   "cell_type": "code",
   "execution_count": null,
   "metadata": {},
   "outputs": [],
   "source": [
    "#Analysis: effect of MP_CODE?ARMA? repeated measures"
   ]
  },
  {
   "cell_type": "code",
   "execution_count": null,
   "metadata": {},
   "outputs": [],
   "source": [
    "data_final %>%\n",
    "  eda_report(target = DURATION_TO_140_150)"
   ]
  },
  {
   "cell_type": "code",
   "execution_count": null,
   "metadata": {},
   "outputs": [],
   "source": [
    "#Filtre data: données aberrantes pour un MDU(flux donné), a plus grand eéchelle: MSN=> donnée aberrante par rapport à la répartition des\n",
    "#durée de livraison à point final"
   ]
  },
  {
   "cell_type": "code",
   "execution_count": null,
   "metadata": {},
   "outputs": [],
   "source": [
    "#todo debug time*2;duration*2, boxplot, boxplot avec points outliers, boxplot avec market_place,jour,mois,matin etc"
   ]
  },
  {
   "cell_type": "code",
   "execution_count": null,
   "metadata": {},
   "outputs": [],
   "source": [
    "#TODO tramineR"
   ]
  },
  {
   "cell_type": "code",
   "execution_count": null,
   "metadata": {},
   "outputs": [],
   "source": [
    "library(TraMineR)\n",
    "seqfplot(data_final$diff, with.legend = FALSE, border = NA)"
   ]
  },
  {
   "cell_type": "code",
   "execution_count": null,
   "metadata": {},
   "outputs": [],
   "source": [
    "#Analyse canonique variables catégorielles/variables qualitatives"
   ]
  },
  {
   "cell_type": "code",
   "execution_count": null,
   "metadata": {},
   "outputs": [],
   "source": [
    "############################MODELIZATION: 3 or 2 models by system(pgi,pea,pda) and 2 model by last tracking point required"
   ]
  },
  {
   "cell_type": "code",
   "execution_count": null,
   "metadata": {},
   "outputs": [],
   "source": [
    "\n",
    "    #data exploration\n",
    "    # library(DataExplorer)\n",
    "    # library(ggplot2)\n",
    " \n",
    "    #png(filename=paste0(C:/Users/TO122806/Documents/Projets/FM/Resultats/Plot/plot_missing_data_,system,.png))\n",
    "    #plot_missing(data_all)\n",
    "    #dev.off()\n",
    "    \n",
    "    #png(filename=paste0(C:/Users/TO122806/Documents/Projets/FM/Resultats/Plot/plot_bar_1_,system,.png))\n",
    "    #plot_bar(data_all[,1:9])\n",
    "    #dev.off()\n",
    "    \n",
    "    #png(filename=paste0(C:/Users/TO122806/Documents/Projets/FM/Resultats/Plot/plot_bar_2_,system,.png))\n",
    "    #plot_bar(data_all[,10:ncol(data_all)]),\n",
    "    #dev.off()\n",
    "    \n",
    "    #png(filename=paste0(C:/Users/TO122806/Documents/Projets/FM/Resultats/Plot/plot_histogram_,system,.png))\n",
    "    #plot_histogram(data_all)\n",
    "    #dev.off()\n",
    "    \n",
    "    #png(filename=paste0(C:/Users/TO122806/Documents/Projets/FM/Resultats/Plot/plot_boxplot_,system,.png))\n",
    "    #plot_boxplot(data_all,by=SYS_ID)\n",
    "    #dev.off()\n",
    "\n",
    "    #png(filename=paste0(C:/Users/TO122806/Documents/Projets/FM/Resultats/Plot/plot_correlation_,system,.png))\n",
    "    #plot_correlation(data_all)\n",
    "    #dev.off()\n",
    "\n",
    "    # ,theme_config = list(plot.background = element_rect(fill = yellow),  aspect.ratio = 1))\n",
    "    #sélection des données que pour lesquelles on observe le point d'output:140ou150 selon le systeme de base\n",
    "    #library(ddply)"
   ]
  },
  {
   "cell_type": "code",
   "execution_count": null,
   "metadata": {},
   "outputs": [],
   "source": [
    "    # info_nb_tracking=ddply(data_final,.ID,function(x) nrow(x))#todo hist plot to see repartition,\n",
    "    # library(ggplot2),\n",
    "    # ggplot(info_nb_tracking, aes(ID)) +stat_count(),\n",
    "    # +geom_histogram(fill=white),\n",
    "    # hist()"
   ]
  }
 ],
 "metadata": {
  "kernelspec": {
   "display_name": "R",
   "language": "R",
   "name": "ir"
  }
 },
 "nbformat": 4,
 "nbformat_minor": 2
}
